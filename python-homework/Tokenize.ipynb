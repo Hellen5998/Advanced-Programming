{
 "cells": [
  {
   "cell_type": "code",
   "execution_count": 101,
   "metadata": {},
   "outputs": [],
   "source": [
    "para='''Children in France will start school at the age of three instead of six, under new reforms announced by President Emmanuel Macron.\n",
    "\n",
    "　　法国总统马克龙宣布最新改革举措，法国儿童的入学年龄将从6岁降至3岁。\n",
    "\n",
    "　　The change will give France one of the lowest compulsory school starting ages in Europe.\n",
    "\n",
    "　　此举将使法国成为欧洲义务教育入学年龄最低的国家之一。\n",
    "\n",
    "　　But it will only affect a small number of children, as the majority of French families already choose to send their children to school at three.\n",
    "\n",
    "　　不过，这项改革将仅仅影响少数儿童，因为多数法国家庭的孩子都已经在3岁时入学了。\n",
    "\n",
    "　　Only 2.4% of children are not enrolled at that age, government figures show.\n",
    "\n",
    "　　据政府数据，仅有2.4%的儿童在3岁时没有入学。\n",
    "\n",
    "　　Mr Macron said the change was intended to reduce inequality in education, as parents in poorer areas of France and in overseas territories are less likely to send their children to school at an early age.\n",
    "\n",
    "　　马克龙表示，这项改革旨在减少教育不平等现象，因为生活在较贫困地区和海外领地的父母不太可能让孩子较早入学。\n",
    "\n",
    "　　In Paris, 93% of three-year-olds are enrolled but the figure is much lower in some overseas territories, according to Le Monde.\n",
    "\n",
    "　　据《法国世界报》报道，巴黎93%的3岁儿童入学读书，但在一些海外领地，这一比例要低得多。\n",
    "\n",
    "　　\"I hope that with this obligation, from the start of the school year in 2019, we can... correct this unacceptable differential,\" Mr Macron told a conference on Tuesday.\n",
    "\n",
    "　　马克龙在周二的会议上说：“我希望有了这项义务教育政策之后，从明年的学年开始，我们能够纠正这种不可接受的教育差异。”\n",
    "\n",
    "　　He hailed the change as \"a founding moment in the French education system\".\n",
    "\n",
    "　　他称这项改革为“法国教育体系的奠基时刻”。\n",
    "\n",
    "　　There is much debate about when children should begin formal education.\n",
    "\n",
    "　　关于儿童应何时开始接受正规教育有诸多争议。\n",
    "\n",
    "　　A study published in 2015 found that children who started school later were less likely to be inattentive or hyperactive in class.\n",
    "\n",
    "　　2015年发布的一项调查表明，较晚上学的儿童在课堂上注意力不集中和多动的现象会少一些。\n",
    "\n",
    "　　Finland, Poland and Estonia - three of Europe's most academically successful countries - have a school starting age of seven.\n",
    "\n",
    "　　芬兰、波兰和爱沙尼亚是欧洲三个学术上最有成就的国家，这三个国家的儿童都是7岁入学。\n",
    "\n",
    "　　But children in those countries have usually been in a nursery, where they have been learning through play and games. Class sizes are also generally smaller.\n",
    "\n",
    "　　但这些国家的儿童之前都会上幼儿园，在那里他们通过玩耍和游戏学习。班级规模一般也更小。'''"
   ]
  },
  {
   "cell_type": "code",
   "execution_count": 102,
   "metadata": {},
   "outputs": [
    {
     "data": {
      "text/plain": [
       "['Children in France will start school at the age of three instead of six, under new reforms announced by President Emmanuel Macron',\n",
       " '\\n\\n\\u3000\\u3000法国总统马克龙宣布最新改革举措，法国儿童的入学年龄将从6岁降至3岁。\\n\\n\\u3000\\u3000The change will give France one of the lowest compulsory school starting ages in Europe',\n",
       " '\\n\\n\\u3000\\u3000此举将使法国成为欧洲义务教育入学年龄最低的国家之一。\\n\\n\\u3000\\u3000But it will only affect a small number of children, as the majority of French families already choose to send their children to school at three',\n",
       " '\\n\\n\\u3000\\u3000不过，这项改革将仅仅影响少数儿童，因为多数法国家庭的孩子都已经在3岁时入学了。\\n\\n\\u3000\\u3000Only 2',\n",
       " '4% of children are not enrolled at that age, government figures show',\n",
       " '\\n\\n\\u3000\\u3000据政府数据，仅有2',\n",
       " '4%的儿童在3岁时没有入学。\\n\\n\\u3000\\u3000Mr Macron said the change was intended to reduce inequality in education, as parents in poorer areas of France and in overseas territories are less likely to send their children to school at an early age',\n",
       " '\\n\\n\\u3000\\u3000马克龙表示，这项改革旨在减少教育不平等现象，因为生活在较贫困地区和海外领地的父母不太可能让孩子较早入学。\\n\\n\\u3000\\u3000In Paris, 93% of three-year-olds are enrolled but the figure is much lower in some overseas territories, according to Le Monde',\n",
       " '\\n\\n\\u3000\\u3000据《法国世界报》报道，巴黎93%的3岁儿童入学读书，但在一些海外领地，这一比例要低得多。\\n\\n\\u3000\\u3000\"I hope that with this obligation, from the start of the school year in 2019, we can',\n",
       " '',\n",
       " '',\n",
       " ' correct this unacceptable differential,\" Mr Macron told a conference on Tuesday',\n",
       " '\\n\\n\\u3000\\u3000马克龙在周二的会议上说：“我希望有了这项义务教育政策之后，从明年的学年开始，我们能够纠正这种不可接受的教育差异。”\\n\\n\\u3000\\u3000He hailed the change as \"a founding moment in the French education system\"',\n",
       " '\\n\\n\\u3000\\u3000他称这项改革为“法国教育体系的奠基时刻”。\\n\\n\\u3000\\u3000There is much debate about when children should begin formal education',\n",
       " '\\n\\n\\u3000\\u3000关于儿童应何时开始接受正规教育有诸多争议。\\n\\n\\u3000\\u3000A study published in 2015 found that children who started school later were less likely to be inattentive or hyperactive in class',\n",
       " \"\\n\\n\\u3000\\u30002015年发布的一项调查表明，较晚上学的儿童在课堂上注意力不集中和多动的现象会少一些。\\n\\n\\u3000\\u3000Finland, Poland and Estonia - three of Europe's most academically successful countries - have a school starting age of seven\",\n",
       " '\\n\\n\\u3000\\u3000芬兰、波兰和爱沙尼亚是欧洲三个学术上最有成就的国家，这三个国家的儿童都是7岁入学。\\n\\n\\u3000\\u3000But children in those countries have usually been in a nursery, where they have been learning through play and games',\n",
       " ' Class sizes are also generally smaller',\n",
       " '\\n\\n\\u3000\\u3000但这些国家的儿童之前都会上幼儿园，在那里他们通过玩耍和游戏学习。班级规模一般也更小。']"
      ]
     },
     "execution_count": 102,
     "metadata": {},
     "output_type": "execute_result"
    }
   ],
   "source": [
    "para.split('.')"
   ]
  },
  {
   "cell_type": "code",
   "execution_count": 103,
   "metadata": {},
   "outputs": [],
   "source": [
    "from nltk.tokenize import sent_tokenize"
   ]
  },
  {
   "cell_type": "code",
   "execution_count": 104,
   "metadata": {},
   "outputs": [
    {
     "data": {
      "text/plain": [
       "['Children in France will start school at the age of three instead of six, under new reforms announced by President Emmanuel Macron.',\n",
       " '法国总统马克龙宣布最新改革举措，法国儿童的入学年龄将从6岁降至3岁。\\n\\n\\u3000\\u3000The change will give France one of the lowest compulsory school starting ages in Europe.',\n",
       " '此举将使法国成为欧洲义务教育入学年龄最低的国家之一。\\n\\n\\u3000\\u3000But it will only affect a small number of children, as the majority of French families already choose to send their children to school at three.',\n",
       " '不过，这项改革将仅仅影响少数儿童，因为多数法国家庭的孩子都已经在3岁时入学了。\\n\\n\\u3000\\u3000Only 2.4% of children are not enrolled at that age, government figures show.',\n",
       " '据政府数据，仅有2.4%的儿童在3岁时没有入学。\\n\\n\\u3000\\u3000Mr Macron said the change was intended to reduce inequality in education, as parents in poorer areas of France and in overseas territories are less likely to send their children to school at an early age.',\n",
       " '马克龙表示，这项改革旨在减少教育不平等现象，因为生活在较贫困地区和海外领地的父母不太可能让孩子较早入学。\\n\\n\\u3000\\u3000In Paris, 93% of three-year-olds are enrolled but the figure is much lower in some overseas territories, according to Le Monde.',\n",
       " '据《法国世界报》报道，巴黎93%的3岁儿童入学读书，但在一些海外领地，这一比例要低得多。\\n\\n\\u3000\\u3000\"I hope that with this obligation, from the start of the school year in 2019, we can... correct this unacceptable differential,\" Mr Macron told a conference on Tuesday.',\n",
       " '马克龙在周二的会议上说：“我希望有了这项义务教育政策之后，从明年的学年开始，我们能够纠正这种不可接受的教育差异。”\\n\\n\\u3000\\u3000He hailed the change as \"a founding moment in the French education system\".',\n",
       " '他称这项改革为“法国教育体系的奠基时刻”。\\n\\n\\u3000\\u3000There is much debate about when children should begin formal education.',\n",
       " '关于儿童应何时开始接受正规教育有诸多争议。\\n\\n\\u3000\\u3000A study published in 2015 found that children who started school later were less likely to be inattentive or hyperactive in class.',\n",
       " \"2015年发布的一项调查表明，较晚上学的儿童在课堂上注意力不集中和多动的现象会少一些。\\n\\n\\u3000\\u3000Finland, Poland and Estonia - three of Europe's most academically successful countries - have a school starting age of seven.\",\n",
       " '芬兰、波兰和爱沙尼亚是欧洲三个学术上最有成就的国家，这三个国家的儿童都是7岁入学。\\n\\n\\u3000\\u3000But children in those countries have usually been in a nursery, where they have been learning through play and games.',\n",
       " 'Class sizes are also generally smaller.',\n",
       " '但这些国家的儿童之前都会上幼儿园，在那里他们通过玩耍和游戏学习。班级规模一般也更小。']"
      ]
     },
     "execution_count": 104,
     "metadata": {},
     "output_type": "execute_result"
    }
   ],
   "source": [
    "sent_tokenize(para)"
   ]
  },
  {
   "cell_type": "code",
   "execution_count": 105,
   "metadata": {},
   "outputs": [],
   "source": [
    "from nltk.tokenize import word_tokenize"
   ]
  },
  {
   "cell_type": "code",
   "execution_count": 106,
   "metadata": {},
   "outputs": [
    {
     "data": {
      "text/plain": [
       "['Children',\n",
       " 'in',\n",
       " 'France',\n",
       " 'will',\n",
       " 'start',\n",
       " 'school',\n",
       " 'at',\n",
       " 'the',\n",
       " 'age',\n",
       " 'of',\n",
       " 'three',\n",
       " 'instead',\n",
       " 'of',\n",
       " 'six',\n",
       " ',',\n",
       " 'under',\n",
       " 'new',\n",
       " 'reforms',\n",
       " 'announced',\n",
       " 'by',\n",
       " 'President',\n",
       " 'Emmanuel',\n",
       " 'Macron',\n",
       " '.']"
      ]
     },
     "execution_count": 106,
     "metadata": {},
     "output_type": "execute_result"
    }
   ],
   "source": [
    "word_tokenize(sent_tokenize(para)[0])"
   ]
  },
  {
   "cell_type": "code",
   "execution_count": 107,
   "metadata": {},
   "outputs": [],
   "source": [
    "from nltk.corpus import wordnet"
   ]
  },
  {
   "cell_type": "code",
   "execution_count": 108,
   "metadata": {},
   "outputs": [],
   "source": [
    "sys=wordnet.synsets('child')[0]"
   ]
  },
  {
   "cell_type": "code",
   "execution_count": 109,
   "metadata": {},
   "outputs": [
    {
     "data": {
      "text/plain": [
       "'child.n.01'"
      ]
     },
     "execution_count": 109,
     "metadata": {},
     "output_type": "execute_result"
    }
   ],
   "source": [
    "sys.name()"
   ]
  },
  {
   "cell_type": "code",
   "execution_count": 110,
   "metadata": {},
   "outputs": [],
   "source": [
    "from nltk.corpus import wordnet as wn"
   ]
  },
  {
   "cell_type": "code",
   "execution_count": 111,
   "metadata": {},
   "outputs": [],
   "source": [
    "c=wn.synset('child.n.01')"
   ]
  },
  {
   "cell_type": "code",
   "execution_count": 112,
   "metadata": {},
   "outputs": [],
   "source": [
    "types_of_c=c.hyponyms()"
   ]
  },
  {
   "cell_type": "code",
   "execution_count": 113,
   "metadata": {},
   "outputs": [
    {
     "data": {
      "text/plain": [
       "[Synset('bairn.n.01'),\n",
       " Synset('buster.n.02'),\n",
       " Synset('changeling.n.02'),\n",
       " Synset('child_prodigy.n.01'),\n",
       " Synset('foster-child.n.01'),\n",
       " Synset('imp.n.02'),\n",
       " Synset('kiddy.n.01'),\n",
       " Synset('orphan.n.01'),\n",
       " Synset('peanut.n.03'),\n",
       " Synset('pickaninny.n.01'),\n",
       " Synset('poster_child.n.01'),\n",
       " Synset('preschooler.n.01'),\n",
       " Synset('silly.n.01'),\n",
       " Synset('sprog.n.02'),\n",
       " Synset('toddler.n.01'),\n",
       " Synset('urchin.n.01'),\n",
       " Synset('waif.n.01')]"
      ]
     },
     "execution_count": 113,
     "metadata": {},
     "output_type": "execute_result"
    }
   ],
   "source": [
    "types_of_c"
   ]
  },
  {
   "cell_type": "code",
   "execution_count": 114,
   "metadata": {},
   "outputs": [],
   "source": [
    "from nltk import FreqDist"
   ]
  },
  {
   "cell_type": "code",
   "execution_count": 115,
   "metadata": {},
   "outputs": [],
   "source": [
    "fdist1=FreqDist(para)"
   ]
  },
  {
   "cell_type": "code",
   "execution_count": 116,
   "metadata": {},
   "outputs": [
    {
     "data": {
      "text/plain": [
       "FreqDist({' ': 241, 'e': 158, 'a': 98, 'n': 94, 'o': 90, 't': 88, 'r': 87, 's': 77, 'i': 75, 'l': 69, ...})"
      ]
     },
     "execution_count": 116,
     "metadata": {},
     "output_type": "execute_result"
    }
   ],
   "source": [
    "fdist1"
   ]
  },
  {
   "cell_type": "code",
   "execution_count": 117,
   "metadata": {},
   "outputs": [
    {
     "data": {
      "text/plain": [
       "[(' ', 241), ('e', 158), ('a', 98), ('n', 94), ('o', 90)]"
      ]
     },
     "execution_count": 117,
     "metadata": {},
     "output_type": "execute_result"
    }
   ],
   "source": [
    "fdist1.most_common(5)"
   ]
  },
  {
   "cell_type": "code",
   "execution_count": 118,
   "metadata": {},
   "outputs": [],
   "source": [
    "import matplotlib"
   ]
  },
  {
   "cell_type": "code",
   "execution_count": 119,
   "metadata": {},
   "outputs": [
    {
     "data": {
      "image/png": "[encoded data removed]",
      "text/plain": [
       "<Figure size 432x288 with 1 Axes>"
      ]
     },
     "metadata": {
      "needs_background": "light"
     },
     "output_type": "display_data"
    }
   ],
   "source": [
    "fdist1.plot(5,cumulative=True)"
   ]
  },
  {
   "cell_type": "code",
   "execution_count": 120,
   "metadata": {},
   "outputs": [],
   "source": [
    "import matplotlib.pyplot as plt"
   ]
  },
  {
   "cell_type": "code",
   "execution_count": 121,
   "metadata": {},
   "outputs": [
    {
     "data": {
      "text/plain": [
       "<matplotlib.axes._subplots.AxesSubplot at 0x1be2d0d53c8>"
      ]
     },
     "execution_count": 121,
     "metadata": {},
     "output_type": "execute_result"
    },
    {
     "data": {
      "image/png": "[encoded data removed]",
      "text/plain": [
       "<Figure size 432x288 with 1 Axes>"
      ]
     },
     "metadata": {
      "needs_background": "light"
     },
     "output_type": "display_data"
    }
   ],
   "source": [
    "plt.axes(aspect=1)"
   ]
  },
  {
   "cell_type": "code",
   "execution_count": 122,
   "metadata": {},
   "outputs": [],
   "source": [
    "labels=' ','e','a','n','o'"
   ]
  },
  {
   "cell_type": "code",
   "execution_count": 123,
   "metadata": {},
   "outputs": [],
   "source": [
    "fracs=[249,158,98,94,90]"
   ]
  },
  {
   "cell_type": "code",
   "execution_count": 124,
   "metadata": {},
   "outputs": [
    {
     "data": {
      "text/plain": [
       "([<matplotlib.patches.Wedge at 0x1be2d1973c8>,\n",
       "  <matplotlib.patches.Wedge at 0x1be2d197e10>,\n",
       "  <matplotlib.patches.Wedge at 0x1be2d1a47f0>,\n",
       "  <matplotlib.patches.Wedge at 0x1be2d1ac1d0>,\n",
       "  <matplotlib.patches.Wedge at 0x1be2d1acb70>],\n",
       " [Text(-0.9973503479524061, 0.4639959950680768, ' '),\n",
       "  Text(-0.16489102996720964, -1.0875711233001513, 'e'),\n",
       "  Text(0.9354718171471409, -0.5786989539678006, 'a'),\n",
       "  Text(1.043654449837651, 0.34754192457036026, 'n'),\n",
       "  Text(0.43884105218170094, 1.0086716665595687, 'o')],\n",
       " [Text(-0.5440092807013124, 0.2530887245825873, '36.1 %'),\n",
       "  Text(-0.08994056180029615, -0.5932206127091734, '22.9 %'),\n",
       "  Text(0.5102573548075313, -0.3156539748915275, '14.2 %'),\n",
       "  Text(0.5692660635478096, 0.18956832249292374, '13.6 %'),\n",
       "  Text(0.23936784664456412, 0.5501845453961284, '13.1 %')])"
      ]
     },
     "execution_count": 124,
     "metadata": {},
     "output_type": "execute_result"
    },
    {
     "data": {
      "image/png": "[encoded data removed]",
      "text/plain": [
       "<Figure size 432x288 with 1 Axes>"
      ]
     },
     "metadata": {},
     "output_type": "display_data"
    }
   ],
   "source": [
    "plt.pie(x=fracs,labels=labels,autopct='%3.1f %%',shadow=True,labeldistance=1.1,startangle=90,pctdistance=0.6)"
   ]
  }
 ],
 "metadata": {
  "kernelspec": {
   "display_name": "Python 3",
   "language": "python",
   "name": "python3"
  },
  "language_info": {
   "codemirror_mode": {
    "name": "ipython",
    "version": 3
   },
   "file_extension": ".py",
   "mimetype": "text/x-python",
   "name": "python",
   "nbconvert_exporter": "python",
   "pygments_lexer": "ipython3",
   "version": "3.6.6"
  }
 },
 "nbformat": 4,
 "nbformat_minor": 2
}
