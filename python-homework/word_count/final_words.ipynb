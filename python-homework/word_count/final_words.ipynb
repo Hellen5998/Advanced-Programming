{
 "cells": [
  {
   "cell_type": "code",
   "execution_count": 1,
   "metadata": {},
   "outputs": [],
   "source": [
    "from nltk.corpus import PlaintextCorpusReader"
   ]
  },
  {
   "cell_type": "code",
   "execution_count": 2,
   "metadata": {},
   "outputs": [],
   "source": [
    "from nltk import word_tokenize"
   ]
  },
  {
   "cell_type": "code",
   "execution_count": 3,
   "metadata": {},
   "outputs": [],
   "source": [
    "from nltk import Text"
   ]
  },
  {
   "cell_type": "code",
   "execution_count": 4,
   "metadata": {},
   "outputs": [],
   "source": [
    "from nltk import FreqDist"
   ]
  },
  {
   "cell_type": "code",
   "execution_count": 5,
   "metadata": {},
   "outputs": [],
   "source": [
    "corpus_root='C:/Users/dell/Desktop/本地化的响/Python（二）/corpara'"
   ]
  },
  {
   "cell_type": "code",
   "execution_count": 7,
   "metadata": {},
   "outputs": [],
   "source": [
    "files=PlaintextCorpusReader(corpus_root,'.*\\.txt')"
   ]
  },
  {
   "cell_type": "code",
   "execution_count": 8,
   "metadata": {},
   "outputs": [
    {
     "data": {
      "text/plain": [
       "['1.txt',\n",
       " '2.txt',\n",
       " '3.txt',\n",
       " '4.txt',\n",
       " '5.txt',\n",
       " 'python0904/1.txt',\n",
       " 'python0904/2.txt',\n",
       " 'python0904/3.txt',\n",
       " 'python0904/4.txt',\n",
       " 'python0904/5.txt',\n",
       " 'python0904/python0904/1.txt',\n",
       " 'python0904/python0904/2.txt',\n",
       " 'python0904/python0904/3.txt',\n",
       " 'python0904/python0904/4.txt',\n",
       " 'python0904/python0904/5.txt']"
      ]
     },
     "execution_count": 8,
     "metadata": {},
     "output_type": "execute_result"
    }
   ],
   "source": [
    "files.fileids()"
   ]
  },
  {
   "cell_type": "code",
   "execution_count": 9,
   "metadata": {},
   "outputs": [],
   "source": [
    "words = word_tokenize(files.raw(fileids=files.fileids()))          "
   ]
  },
  {
   "cell_type": "code",
   "execution_count": 10,
   "metadata": {},
   "outputs": [],
   "source": [
    "cps1=Text(words) #把word放在Text类中"
   ]
  },
  {
   "cell_type": "code",
   "execution_count": 11,
   "metadata": {},
   "outputs": [],
   "source": [
    "fdist1=FreqDist(cps1)"
   ]
  },
  {
   "cell_type": "code",
   "execution_count": 12,
   "metadata": {},
   "outputs": [
    {
     "data": {
      "text/plain": [
       "dict_items([('The', 58), ('next', 9), ('financial', 27), ('crisis', 30), ('may', 9), ('be', 15), ('triggered', 6), ('by', 36), ('central', 12), ('banks', 6), ('.', 214), ('As', 6), ('with', 18), ('London', 6), ('buses', 6), (',', 213), ('don', 6), ('’', 81), ('t', 6), ('worry', 6), ('if', 12), ('you', 6), ('miss', 6), ('a', 156), (';', 36), ('another', 9), ('will', 15), ('along', 6), ('shortly', 9), ('latest', 9), ('study', 6), ('on', 60), ('long-term', 6), ('asset', 6), ('returns', 6), ('from', 24), ('Deutsche', 18), ('Bank', 9), ('shows', 6), ('that', 51), ('crises', 6), ('in', 123), ('developed', 12), ('markets', 18), ('have', 42), ('become', 9), ('much', 9), ('more', 42), ('common', 6), ('recent', 12), ('decades', 6), ('That', 9), ('does', 9), ('not', 21), ('bode', 6), ('well', 6), ('defines', 6), ('as', 33), ('period', 15), ('when', 9), ('country', 21), ('suffers', 6), ('one', 15), ('of', 150), ('the', 327), ('following', 15), (':', 15), ('15', 6), ('%', 21), ('annual', 9), ('decline', 6), ('equities', 6), ('10', 9), ('fall', 6), ('its', 54), ('currency', 24), ('or', 12), ('government', 18), ('bonds', 6), ('default', 6), ('national', 6), ('debt', 18), ('double-digit', 6), ('inflation', 6), ('During', 6), ('19th', 6), ('century', 6), ('only', 6), ('occasionally', 6), ('did', 9), ('than', 24), ('half', 12), ('countries', 12), ('for', 57), ('which', 21), ('there', 6), ('are', 15), ('data', 15), ('suffer', 15), ('such', 6), ('shock', 6), ('single', 6), ('year', 42), ('But', 18), ('since', 42), ('1980s', 6), ('numerous', 6), ('years', 6), ('them', 9), ('been', 27), ('some', 15), ('kind', 6), ('main', 6), ('reason', 6), ('this', 6), ('argues', 6), ('is', 27), ('monetary', 12), ('system', 21), ('Under', 6), ('gold', 6), ('standard', 6), ('and', 87), ('successor', 9), ('Bretton', 6), ('Woods', 6), ('fixed', 6), ('exchange', 12), ('rates', 15), ('amount', 6), ('credit', 15), ('creation', 6), ('was', 30), ('limited', 6), ('A', 15), ('expanded', 6), ('money', 6), ('supply', 6), ('too', 6), ('quickly', 6), ('would', 24), ('trade', 24), ('deficit', 12), ('pressure', 15), ('s', 69), ('rate', 21), ('react', 6), ('slamming', 6), ('brakes', 6), ('result', 12), ('it', 24), ('harder', 6), ('bubbles', 6), ('to', 135), ('inflate', 6), ('early', 6), ('1970s', 6), ('moved', 6), ('floating', 6), ('exchange-rate', 6), ('This', 9), ('gives', 6), ('governments', 6), ('flexibility', 6), ('deal', 6), ('an', 15), ('economic', 18), ('means', 6), ('they', 15), ('do', 6), ('subordinate', 6), ('other', 6), ('policy', 12), ('goals', 6), ('maintaining', 6), ('peg', 6), ('It', 9), ('has', 57), ('also', 18), ('created', 6), ('trend', 6), ('towards', 6), ('greater', 6), ('imbalances', 6), ('no', 6), ('longer', 6), ('constrain', 6), ('policymakers—the', 6), ('often', 6), ('allowed', 6), ('take', 9), ('strain', 6), ('Similarly', 6), ('risen', 6), ('steadily', 6), ('proportion', 6), ('GDP', 9), ('mid-1970s', 6), ('There', 9), ('little', 12), ('balance', 6), ('budget', 9), ('Japan', 6), ('had', 21), ('every', 6), ('1966', 6), ('France', 6), ('1993', 6), ('Italy', 6), ('managed', 6), ('just', 12), ('surplus', 6), ('1950', 6), ('In', 9), ('world', 9), ('consumers', 6), ('companies', 6), ('taken', 6), ('cycle', 6), ('expansion', 9), ('collapse.China', 3), ('warned', 3), ('want', 3), ('war', 3), ('US', 21), ('but', 6), ('sit', 3), ('idly', 3), ('economy', 30), ('hurt', 3), ('Zhang', 6), ('Yesui', 6), ('spokesperson', 3), ('China', 15), ('National', 6), ('People', 3), ('Congress', 3), ('made', 3), ('comments', 3), ('amid', 3), ('controversy', 3), ('over', 6), ('Donald', 3), ('Trump', 6), ('announcement', 3), ('tariffs', 6), ('steel', 6), ('aluminium', 6), ('imports', 6), ('president', 6), ('threatened', 3), ('impose', 3), ('tax', 12), ('EU-made', 6), ('cars', 6), ('earlier', 3), ('said', 27), ('``', 12), ('wars', 3), ('good', 3), (\"''\", 12), ('trading', 3), ('partners', 3), ('IMF', 3), ('WTO', 3), ('strongly', 6), ('criticised', 3), ('his', 15), ('moves', 12), ('Mr', 9), ('decried', 3), ('$', 6), ('800', 3), ('Billion', 3), ('Dollar', 3), ('Yearly', 3), ('Trade', 3), ('Deficit', 3), ('because', 6), ('our', 3), ('very', 6), ('stupid', 3), ('deals', 6), ('policies', 3), ('vowed', 3), ('end', 3), ('On', 3), ('Thursday', 3), ('he', 12), ('face', 3), ('25', 3), ('tariff', 3), ('Then', 3), ('came', 6), ('Saturday', 3), ('threat', 3), ('January', 12), ('already', 3), ('announced', 6), ('solar', 3), ('panels', 3), ('washing', 3), ('machines', 3), ('natural', 3), ('friction', 3), ('exist', 3), ('between', 6), ('given', 3), ('volume', 3), ('surpassed', 3), ('580bn', 3), ('last', 18), ('necessary', 3), ('measures', 3), ('interests', 3), ('were', 15), ('hurt.The', 3), ('set', 3), ('gain', 3), ('momentum', 6), ('hardening', 3), ('arguments', 6), ('increases', 3), ('short-term', 3), ('interest', 6), ('Federal', 6), ('Reserve', 3), ('policymakers', 3), ('at', 18), ('their', 12), ('meeting', 18), ('number', 6), ('participants', 6), ('bank', 6), ('30-31', 3), ('marked', 3), ('up', 3), ('growth', 21), ('forecasts', 3), ('previous', 3), ('month', 6), ('encouraged', 3), ('firm', 3), ('global', 3), ('supportive', 3), ('potential', 3), ('cuts', 3), ('boost', 12), ('expected', 9), ('Others', 3), ('“', 18), ('upside', 3), ('risks', 3), ('”', 18), ('increased', 6), ('according', 6), ('minutes', 6), ('gathering', 3), ('majority', 3), ('noted', 3), ('stronger', 6), ('outlook', 3), ('raised', 6), ('likelihood', 3), ('further', 6), ('gradual', 6), ('firming', 3), ('appropriate', 3), ('record', 9), ('released', 6), ('Wednesday', 3), ('Fed', 18), ('rate-setters', 3), ('reflected', 3), ('rises', 9), ('changing', 3), ('language', 3), ('post-meeting', 3), ('statement', 3), ('point', 3), ('most', 12), ('held', 3), ('before', 3), ('departure', 3), ('Janet', 3), ('Yellen', 3), ('chair', 3), ('outbreak', 3), ('market', 12), ('volatility', 3), ('greeted', 3), ('Jay', 3), ('Powell', 3), ('her', 3), ('during', 3), ('first', 6), ('days', 3), ('job', 3), ('Policymakers', 3), ('including', 3), ('Bill', 3), ('Dudley', 3), ('New', 3), ('York', 3), ('stressed', 3), ('gyrations', 3), ('equity', 3), ('unlikely', 3), ('shake', 3), ('plans', 3), ('continue', 3), ('programme', 3), ('While', 3), ('deliberations', 3), ('predated', 3), ('worst', 3), ('fluctuations', 3), ('suggests', 3), ('officials', 3), ('confident', 3), ('about', 3), ('December', 6), ('Open', 3), ('Market', 3), ('Committee', 3), ('left', 3), ('target', 3), ('range', 3), ('federal', 3), ('funds', 6), ('hold', 3), ('1.25', 3), ('1.5', 3), ('per', 36), ('cent', 36), ('while', 6), ('laying', 3), ('ground', 3), ('move', 3), ('March', 3), ('20-21', 3), ('key', 3), ('question', 3), ('now', 3), ('whether', 3), ('could', 3), ('opt', 3), ('four', 3), ('times', 3), ('2018', 9), ('rather', 3), ('three', 9), ('currently', 3), ('forecast', 6), ('immediate', 3), ('response', 3), ('suggested', 3), ('significantly', 3), ('advance', 3), ('debate', 3), ('yield', 3), ('10-year', 3), ('Treasury', 3), ('declined', 3), ('modestly', 3), ('dollar', 3), ('softened', 3), ('both', 6), ('muted', 3), ('futures', 3), ('changed.The', 3), ('collapse.India', 3), ('regained', 3), ('title', 3), ('fastest-growing', 3), ('major', 3), ('after', 3), ('figures', 9), ('confirmed', 3), ('grew', 12), ('7', 3), ('annualised', 6), ('basis', 6), ('months', 6), ('overtaking', 3), ('once', 3), ('Data', 3), ('yesterday', 9), ('show', 3), ('7.2', 6), ('final', 3), ('quarter', 18), ('continuing', 3), ('bounceback', 3), ('sharp', 3), ('slowdown', 12), ('middle', 3), ('2017', 6), ('Chinese', 3), ('6.8', 6), ('same', 3), ('Narendra', 3), ('Modi', 9), ('prime', 3), ('minister', 9), ('who', 6), ('come', 6), ('under', 6), ('ahead', 3), ('general', 3), ('election', 3), ('due', 3), ('news', 3), ('comes', 3), ('welcome', 3), ('relief', 3), ('week', 3), ('administration', 3), ('attacked', 3), ('failing', 3), ('prevent', 3), ('1.8bn', 3), ('fraud', 3), ('state-owned', 3), ('Punjab', 3), ('Piyush', 3), ('Goyal', 3), ('railways', 3), ('seen', 3), ('close', 3), ('welcomed', 3), ('tweeting', 3), ('India', 18), ('continues', 3), ('&', 3), ('sustainably', 3), ('—', 6), ('jumps', 3), ('3rd', 3), ('2017-18', 3), ('makes', 3), ('fastest', 3), ('growing', 3), ('large', 3), ('world.', 3), ('Pronab', 3), ('Sen', 3), ('former', 3), ('chief', 3), ('statistician', 3), ('called', 3), ('strong', 3), ('power', 3), ('2014', 3), ('promising', 3), ('reforms', 3), ('help', 3), ('create', 3), ('10m', 3), ('jobs', 3), ('shy', 3), ('estimated', 3), ('13m', 3), ('needs', 3), ('account', 3), ('young', 3), ('people', 3), ('entering', 3), ('workforce', 3), ('each', 3), ('fire', 3), ('sudden', 3), ('decision', 3), ('2016', 9), ('cancel', 3), ('banknotes', 3), ('followed', 3), ('botched', 3), ('attempt', 3), ('reform', 3), ('complex', 3), ('sales', 3), ('problems', 3), ('arising', 3), ('these', 3), ('helped', 3), ('knock', 3), ('off', 3), ('course', 3), ('fell', 3), ('9.1', 3), ('5.7', 3), ('June', 3), ('Last', 3), ('Arun', 3), ('Jaitley', 3), ('finance', 3), ('attempted', 3), ('mitigate', 3), ('effects', 3), ('included', 3), ('higher', 3), ('minimum', 3), ('prices', 3), ('farmers', 3), ('free', 3), ('health', 3), ('insurance', 3), ('100m', 3), ('poor', 3), ('families', 3), ('reversed', 3), ('third', 3), ('showed', 3), ('improvement', 3), ('con', 3), ('?', 6), ('tinued', 3), ('boosted', 3), ('particular', 3), ('recovery', 3), ('construction', 3), ('ex', 3), ('panded', 3), ('sectors', 3), ('wake', 3), ('demonetisation', 6), ('many', 3), ('property', 3), ('having', 3), ('previously', 3), ('paid', 3), ('cash', 3), ('way', 3), ('avoid', 3), ('Manufacturing', 3), ('meanwhile', 3), ('8.1', 3), ('important', 3), ('agricultural', 3), ('sector', 3), ('4.1', 3), ('larger', 3), ('Earlier', 3), ('day', 3), ('rating', 3), ('agency', 3), ('Moody', 3), ('grow', 6), ('7.6', 3), ('signs', 3), ('Indian', 3), ('starting', 3), ('recover', 3), ('soft', 3), ('patch', 3), ('attributed', 3), ('negative', 3), ('impact', 3), ('undertaken', 3), ('disruption', 3), ('related', 3), ('rollout', 3), ('Goods', 3), ('Service', 3), ('Tax.', 3), ('International', 3), ('Monetary', 3), ('Fund', 3), ('7.4', 3), ('7.8', 3), ('2019.The', 2), ('2019', 1)])"
      ]
     },
     "execution_count": 12,
     "metadata": {},
     "output_type": "execute_result"
    }
   ],
   "source": [
    "fdist1.items()"
   ]
  },
  {
   "cell_type": "code",
   "execution_count": 13,
   "metadata": {},
   "outputs": [
    {
     "data": {
      "text/plain": [
       "[('the', 327),\n",
       " ('.', 214),\n",
       " (',', 213),\n",
       " ('a', 156),\n",
       " ('of', 150),\n",
       " ('to', 135),\n",
       " ('in', 123),\n",
       " ('and', 87),\n",
       " ('’', 81),\n",
       " ('s', 69)]"
      ]
     },
     "execution_count": 13,
     "metadata": {},
     "output_type": "execute_result"
    }
   ],
   "source": [
    "fdist1.most_common(10)"
   ]
  },
  {
   "cell_type": "code",
   "execution_count": 14,
   "metadata": {},
   "outputs": [
    {
     "name": "stdout",
     "output_type": "stream",
     "text": [
      "the \t 327\n",
      ". \t 214\n",
      ", \t 213\n",
      "a \t 156\n",
      "of \t 150\n",
      "to \t 135\n",
      "in \t 123\n",
      "and \t 87\n",
      "’ \t 81\n",
      "s \t 69\n"
     ]
    }
   ],
   "source": [
    "for tpl in fdist1.most_common(10):\n",
    "    print(tpl[0],'\\t',tpl[1])"
   ]
  },
  {
   "cell_type": "code",
   "execution_count": null,
   "metadata": {},
   "outputs": [],
   "source": []
  },
  {
   "cell_type": "code",
   "execution_count": null,
   "metadata": {},
   "outputs": [],
   "source": []
  }
 ],
 "metadata": {
  "kernelspec": {
   "display_name": "Python 3",
   "language": "python",
   "name": "python3"
  },
  "language_info": {
   "codemirror_mode": {
    "name": "ipython",
    "version": 3
   },
   "file_extension": ".py",
   "mimetype": "text/x-python",
   "name": "python",
   "nbconvert_exporter": "python",
   "pygments_lexer": "ipython3",
   "version": "3.6.6"
  }
 },
 "nbformat": 4,
 "nbformat_minor": 2
}
