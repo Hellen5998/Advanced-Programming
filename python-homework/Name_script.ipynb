{
 "cells": [
  {
   "cell_type": "code",
   "execution_count": 558,
   "metadata": {},
   "outputs": [],
   "source": [
    "from selenium import webdriver\n",
    "import time"
   ]
  },
  {
   "cell_type": "code",
   "execution_count": 559,
   "metadata": {},
   "outputs": [],
   "source": [
    "def is_element_exist(css):\n",
    "    try:\n",
    "        browser.find_element_by_tag_name(css)\n",
    "        return True\n",
    "    except:\n",
    "        return False"
   ]
  },
  {
   "cell_type": "code",
   "execution_count": 560,
   "metadata": {},
   "outputs": [],
   "source": [
    "def is_class_para(classname):\n",
    "    elems_div=browser.find_elements_by_tag_name('div')\n",
    "    for elem_div in elems_div:\n",
    "        if elem_div.get_attribute('class')==classname: return True\n",
    "    return False"
   ]
  },
  {
   "cell_type": "code",
   "execution_count": 561,
   "metadata": {},
   "outputs": [],
   "source": [
    "if not os.path.exists(\"D:\\\\Parse\\\\lixiang\"):\n",
    "        os.mkdir(\"D:\\\\Parse\\\\lixiang/\")"
   ]
  },
  {
   "cell_type": "code",
   "execution_count": 562,
   "metadata": {},
   "outputs": [],
   "source": [
    "browser=webdriver.Chrome()"
   ]
  },
  {
   "cell_type": "code",
   "execution_count": 563,
   "metadata": {},
   "outputs": [],
   "source": [
    "browser.get('https://www.baidu.com/s?ie=utf-8&f=8&rsv_bp=0&rsv_idx=1&tn=baidu&wd=%E6%9D%8E%E5%93%8D&rsv_pq=e9eac30b000042d1&rsv_t=900evnw09NlwnP87hdCecRuUTGXjtpWCuFkyIAodAiLNPQLVEL%2BM2ZdPLPE&rqlang=cn&rsv_enter=1&rsv_sug3=6&rsv_sug1=5&rsv_sug7=100&rsv_sug2=0&inputT=3328&rsv_sug4=3329')"
   ]
  },
  {
   "cell_type": "code",
   "execution_count": 564,
   "metadata": {},
   "outputs": [],
   "source": [
    "html=browser.page_source"
   ]
  },
  {
   "cell_type": "code",
   "execution_count": 565,
   "metadata": {},
   "outputs": [],
   "source": [
    "#browser.find_elements_by_class_name('n')[-1].click()\n",
    "i=0"
   ]
  },
  {
   "cell_type": "code",
   "execution_count": 566,
   "metadata": {},
   "outputs": [],
   "source": [
    "#elems=browser.find_elements_by_class_name('t')"
   ]
  },
  {
   "cell_type": "code",
   "execution_count": 567,
   "metadata": {},
   "outputs": [
    {
     "name": "stdout",
     "output_type": "stream",
     "text": [
      "李响前女友,节目中瞎指挥潘粤明,网友齐怒:难怪李响不要你\n",
      "娱乐邦\n",
      "孙骁骁，国内知名女主持人。很早就进入湖南卫视的她，凭借《娱乐急先锋》、《挑战麦克风》、《节节高声》、《快乐女声》等多档综艺节目的主持获得了大众的广泛认可。如今的她，不止在主持界发力，同时还参演了多部热门电视剧，2010年合作马天宇主演《宝贝妈妈宝贝女》，2013年合作张翰、郑爽主演《胜女的代价2》。\n",
      "经过多年的演技磨练，孙骁骁迎来了做女主角的机会，2016年以她为主演的《定制幸福》大获成功，2017年主演《白蛇传》和《夔龙玉》，可以说，孙骁骁的事业生涯无论是做主持还是做演员，都相当的成功。但没想到的是，近日在一个节目中的小片段，却让很多网友反感她。\n",
      "近日，32岁的孙骁骁和因《白夜追凶》大火的43岁潘粤明一起参加某综艺节目，孙骁骁全程颐气指使着现场嘉宾，左一句你，右一句你，让潘粤明很没面子，全然忘了潘粤明比自己大11岁，不尊重前辈，令人愕然的是，潘粤明的小女朋友还在场。\n",
      "有的网友说：很讨厌她这种行为，还用手指指人非常不礼貌，太强势，真心不适合主持，难怪红不了，人家何炅汪涵都是用您称呼。甚至有过激的网友说：难怪李响不要你！\n",
      "李响，湖南卫视男主持人，两人同在一个卫视频道，2008年和孙骁骁传出恋情，而后两人一直非常高调，煞是幸福，也被圈内人士很看好，每当孙骁骁过生日的时候，李响都会第一时间送上甜蜜的祝福。\n",
      "不过在去年10月份，李响公开宣称自己恢复单身，更是在北京三里屯和一神秘女子进进出出，吃宵夜，新恋情曝光。李响和孙骁骁在一起的时候，总给大家一种女强男弱的感觉，但李响本身是一个控制欲强的人，恋爱可以，可是一旦到了婚姻里，两人的性格都是强，自然谈不拢。\n",
      "本文由百家号作者上传并发布，百家号仅提供信息发布平台。文章仅代表作者个人观点，不代表百度立场。未经作者许可，不得转载。\n",
      "娱乐邦\n",
      "简介:大胆假设娱乐事件，小心求证明星真相\n",
      "她曾是郑凯的初恋,之后被雪藏,如今却嫁给李响\n",
      "可馨影视剧场\n",
      "要说这两天圈内最热火的事情，那就是郑恺和程晓玥疑似分手，真相暂时还不知道，但是网友们这几天可都没闲着深扒两人各种私事，今天小编看到有网友说郑恺最爱的竟然不是程晓玥，难怪会闹出分手乌龙呢。\n",
      "她曾是湖南卫视当家小花旦，长相可爱甜美，前后主持了《娱乐急先锋》《挑战麦克风》《快乐男声》等节目，然而近几年，不得不说她离主持席也愈行愈远。她曾是郑恺心动的女人，湖南卫视小花旦却被传遭封杀，如今结婚转型为演员还当了信的经纪人。\n",
      "孙骁骁，1985年出生于重庆，2007年进入湖南娱乐频道，最开始在湖南台总能看到她的身影，近几年却很少在主持台亮相，一度引来被“雪藏”的质疑，更有网友猜测是因为沈梦辰等一批新进主持人的蹿起以及与李响的恋情引来湖南台的反感，从而遭到“封杀”。\n",
      "孙骁骁坦言是遇到了瓶颈期：“这些年做主持，最开始很想做娱乐主播，我做过了，后来想做综艺节目也做了，突然之间就很迷茫了，感觉找不到适合自己做的节目，我并没有被湖南卫视封杀，我还是湖南卫视的人。”\n",
      "恰巧湖南卫视最近几年尝试自制青春偶像剧，邀请她参演，“我当时就想主持做了一段时间了，是不是有一些新的东西可以去尝试。做了演员后就发现跟做主持完全不一样，做主持就是做自己，做演员却是可以感受不同人生，我就给自己定了个计划，先努力做做演员”。\n",
      "说到演戏，那就不得不说2011年由孙骁骁、郑恺等主演的红色青春偶像剧《我的青春在延安》。也因为该剧两人传出恋爱绯闻，暧昧不清。一位剧组工作人员称，“当时我们剧组的人都以为他们是一对儿，太亲密了”。在这部戏之后，孙骁骁还和郑恺在湖南卫视的《舞动奇迹》当中搭档，两人举止亲昵，互动暧昧。\n",
      "郑恺在做客某节目时曾表示“做过最有挑战的事情就是澳门塔蹦极”\n",
      "另一条微博说：孙骁骁把跟郑恺相关的微博全删了，而郑恺却都保留着，然后才有了我们从微博里发现的这一段爱情…\n",
      "所谓“无巧不成书”，2015年5月12日，李响向孙骁骁求婚了，正好赶上了郑恺女朋友程晓玥也被曝光和正式默认了，然而这一“巧合”却被双方粉丝逮了个正着，孙骁骁和郑恺过去那段暧昧不清的日子也被扒出。\n",
      "网友们曾评论他们的感情：\n",
      "一个没有跳澳门塔，却求婚成功了;一个爱的深沉，跳了澳门塔到头来却一场空…等一等再放弃，感情大抵如此。\n",
      "你做过最刺激的事就是澳门塔蹦极，而她却嫁给了恐高的他。你说你想等一等再放弃，而她却删干净五年内所有相关的微博然后互相取关。她做了你的逃兵，却找到了另一个盖世英雄。所以说，最爱的人不会在一起。\n",
      "近来孙骁骁主演的电视剧在湖南台热播，她还当起了《我是歌手4》信的经纪人。\n",
      "与老公李响夫妇录制《非常静距离》畅聊生活中的点点滴滴，分享婚姻爱情的保鲜秘籍。两人在录制过程中多次甜蜜对视，分分钟要虐死单身狗的节奏。\n",
      "从初恋到程晓玥，郑恺也和不少圈内明星传过绯闻，《跑男》一开始播出时，几度传过郑恺爱上baby的流言，不过那都是节目组想炒作，也很赵丽颖传过，真正传绯闻时间长的就是孙骁骁，孙骁骁曾是湖南台的主持。\n",
      "之后因为某些原因被湖南台封杀，和李响恋爱多年结婚后又离婚，但是据说郑恺对她念念不忘，早年微博上有很多关于孙骁骁的，孙骁骁呢当时没有回应郑恺毅然决然的选择李响，有人说是因为李响后台硬。\n",
      "孙骁骁在圈内的名声一直不太好，但是男人缘很好，和苏醒交情很深，这次程晓玥取关郑恺疑似分手有网友就想到孙骁骁，不过小编觉得郑恺和孙骁骁已经是很多年前的事情了，具体郑恺程晓玥到底有没有分手，大家还是等两人回应吧~\n",
      "其实感情毕竟是两个人的事，外人又怎会知道其中奥妙。年少轻狂，幸福时光;如今长大，相忘于江湖也不错。\n",
      "本文由百家号作者上传并发布，百家号仅提供信息发布平台。文章仅代表作者个人观点，不代表百度立场。未经作者许可，不得转载。\n",
      "可馨影视剧场\n",
      "简介:喜欢影视的你绝对不要错过\n",
      "李响-舞蹈《Hen》-娱乐-高清正版视频在线观看–爱奇艺\n"
     ]
    },
    {
     "ename": "StaleElementReferenceException",
     "evalue": "Message: stale element reference: element is not attached to the page document\n  (Session info: chrome=56.0.2924.87)\n  (Driver info: chromedriver=2.29.461591 (62ebf098771772160f391d75e589dc567915b233),platform=Windows NT 10.0.17134 x86_64)\n",
     "output_type": "error",
     "traceback": [
      "\u001b[1;31m---------------------------------------------------------------------------\u001b[0m",
      "\u001b[1;31mStaleElementReferenceException\u001b[0m            Traceback (most recent call last)",
      "\u001b[1;32m<ipython-input-567-e0f90e4ec8b8>\u001b[0m in \u001b[0;36m<module>\u001b[1;34m()\u001b[0m\n\u001b[0;32m      9\u001b[0m         \u001b[0mtime\u001b[0m\u001b[1;33m.\u001b[0m\u001b[0msleep\u001b[0m\u001b[1;33m(\u001b[0m\u001b[1;36m3\u001b[0m\u001b[1;33m)\u001b[0m\u001b[1;33m\u001b[0m\u001b[0m\n\u001b[0;32m     10\u001b[0m         \u001b[0mbrowser\u001b[0m\u001b[1;33m.\u001b[0m\u001b[0mswitch_to\u001b[0m\u001b[1;33m.\u001b[0m\u001b[0mwindow\u001b[0m\u001b[1;33m(\u001b[0m\u001b[0mbrowser\u001b[0m\u001b[1;33m.\u001b[0m\u001b[0mwindow_handles\u001b[0m\u001b[1;33m[\u001b[0m\u001b[1;33m-\u001b[0m\u001b[1;36m1\u001b[0m\u001b[1;33m]\u001b[0m\u001b[1;33m)\u001b[0m\u001b[1;33m\u001b[0m\u001b[0m\n\u001b[1;32m---> 11\u001b[1;33m         \u001b[1;32mif\u001b[0m \u001b[0mis_class_para\u001b[0m\u001b[1;33m(\u001b[0m\u001b[1;34m'para'\u001b[0m\u001b[1;33m)\u001b[0m\u001b[1;33m:\u001b[0m\u001b[1;33m\u001b[0m\u001b[0m\n\u001b[0m\u001b[0;32m     12\u001b[0m             \u001b[0melems_div\u001b[0m\u001b[1;33m=\u001b[0m\u001b[0mbrowser\u001b[0m\u001b[1;33m.\u001b[0m\u001b[0mfind_elements_by_class_name\u001b[0m\u001b[1;33m(\u001b[0m\u001b[1;34m'para'\u001b[0m\u001b[1;33m)\u001b[0m\u001b[1;33m\u001b[0m\u001b[0m\n\u001b[0;32m     13\u001b[0m             \u001b[1;32mfor\u001b[0m \u001b[0melem_div\u001b[0m \u001b[1;32min\u001b[0m \u001b[0melems_div\u001b[0m\u001b[1;33m:\u001b[0m\u001b[1;33m\u001b[0m\u001b[0m\n",
      "\u001b[1;32m<ipython-input-560-e8b9f4b8838a>\u001b[0m in \u001b[0;36mis_class_para\u001b[1;34m(classname)\u001b[0m\n\u001b[0;32m      2\u001b[0m     \u001b[0melems_div\u001b[0m\u001b[1;33m=\u001b[0m\u001b[0mbrowser\u001b[0m\u001b[1;33m.\u001b[0m\u001b[0mfind_elements_by_tag_name\u001b[0m\u001b[1;33m(\u001b[0m\u001b[1;34m'div'\u001b[0m\u001b[1;33m)\u001b[0m\u001b[1;33m\u001b[0m\u001b[0m\n\u001b[0;32m      3\u001b[0m     \u001b[1;32mfor\u001b[0m \u001b[0melem_div\u001b[0m \u001b[1;32min\u001b[0m \u001b[0melems_div\u001b[0m\u001b[1;33m:\u001b[0m\u001b[1;33m\u001b[0m\u001b[0m\n\u001b[1;32m----> 4\u001b[1;33m         \u001b[1;32mif\u001b[0m \u001b[0melem_div\u001b[0m\u001b[1;33m.\u001b[0m\u001b[0mget_attribute\u001b[0m\u001b[1;33m(\u001b[0m\u001b[1;34m'class'\u001b[0m\u001b[1;33m)\u001b[0m\u001b[1;33m==\u001b[0m\u001b[0mclassname\u001b[0m\u001b[1;33m:\u001b[0m \u001b[1;32mreturn\u001b[0m \u001b[1;32mTrue\u001b[0m\u001b[1;33m\u001b[0m\u001b[0m\n\u001b[0m\u001b[0;32m      5\u001b[0m     \u001b[1;32mreturn\u001b[0m \u001b[1;32mFalse\u001b[0m\u001b[1;33m\u001b[0m\u001b[0m\n",
      "\u001b[1;32mc:\\users\\dell\\appdata\\local\\programs\\python\\python36\\lib\\site-packages\\selenium\\webdriver\\remote\\webelement.py\u001b[0m in \u001b[0;36mget_attribute\u001b[1;34m(self, name)\u001b[0m\n\u001b[0;32m    141\u001b[0m                 self, name)\n\u001b[0;32m    142\u001b[0m         \u001b[1;32melse\u001b[0m\u001b[1;33m:\u001b[0m\u001b[1;33m\u001b[0m\u001b[0m\n\u001b[1;32m--> 143\u001b[1;33m             \u001b[0mresp\u001b[0m \u001b[1;33m=\u001b[0m \u001b[0mself\u001b[0m\u001b[1;33m.\u001b[0m\u001b[0m_execute\u001b[0m\u001b[1;33m(\u001b[0m\u001b[0mCommand\u001b[0m\u001b[1;33m.\u001b[0m\u001b[0mGET_ELEMENT_ATTRIBUTE\u001b[0m\u001b[1;33m,\u001b[0m \u001b[1;33m{\u001b[0m\u001b[1;34m'name'\u001b[0m\u001b[1;33m:\u001b[0m \u001b[0mname\u001b[0m\u001b[1;33m}\u001b[0m\u001b[1;33m)\u001b[0m\u001b[1;33m\u001b[0m\u001b[0m\n\u001b[0m\u001b[0;32m    144\u001b[0m             \u001b[0mattributeValue\u001b[0m \u001b[1;33m=\u001b[0m \u001b[0mresp\u001b[0m\u001b[1;33m.\u001b[0m\u001b[0mget\u001b[0m\u001b[1;33m(\u001b[0m\u001b[1;34m'value'\u001b[0m\u001b[1;33m)\u001b[0m\u001b[1;33m\u001b[0m\u001b[0m\n\u001b[0;32m    145\u001b[0m             \u001b[1;32mif\u001b[0m \u001b[0mattributeValue\u001b[0m \u001b[1;32mis\u001b[0m \u001b[1;32mnot\u001b[0m \u001b[1;32mNone\u001b[0m\u001b[1;33m:\u001b[0m\u001b[1;33m\u001b[0m\u001b[0m\n",
      "\u001b[1;32mc:\\users\\dell\\appdata\\local\\programs\\python\\python36\\lib\\site-packages\\selenium\\webdriver\\remote\\webelement.py\u001b[0m in \u001b[0;36m_execute\u001b[1;34m(self, command, params)\u001b[0m\n\u001b[0;32m    631\u001b[0m             \u001b[0mparams\u001b[0m \u001b[1;33m=\u001b[0m \u001b[1;33m{\u001b[0m\u001b[1;33m}\u001b[0m\u001b[1;33m\u001b[0m\u001b[0m\n\u001b[0;32m    632\u001b[0m         \u001b[0mparams\u001b[0m\u001b[1;33m[\u001b[0m\u001b[1;34m'id'\u001b[0m\u001b[1;33m]\u001b[0m \u001b[1;33m=\u001b[0m \u001b[0mself\u001b[0m\u001b[1;33m.\u001b[0m\u001b[0m_id\u001b[0m\u001b[1;33m\u001b[0m\u001b[0m\n\u001b[1;32m--> 633\u001b[1;33m         \u001b[1;32mreturn\u001b[0m \u001b[0mself\u001b[0m\u001b[1;33m.\u001b[0m\u001b[0m_parent\u001b[0m\u001b[1;33m.\u001b[0m\u001b[0mexecute\u001b[0m\u001b[1;33m(\u001b[0m\u001b[0mcommand\u001b[0m\u001b[1;33m,\u001b[0m \u001b[0mparams\u001b[0m\u001b[1;33m)\u001b[0m\u001b[1;33m\u001b[0m\u001b[0m\n\u001b[0m\u001b[0;32m    634\u001b[0m \u001b[1;33m\u001b[0m\u001b[0m\n\u001b[0;32m    635\u001b[0m     \u001b[1;32mdef\u001b[0m \u001b[0mfind_element\u001b[0m\u001b[1;33m(\u001b[0m\u001b[0mself\u001b[0m\u001b[1;33m,\u001b[0m \u001b[0mby\u001b[0m\u001b[1;33m=\u001b[0m\u001b[0mBy\u001b[0m\u001b[1;33m.\u001b[0m\u001b[0mID\u001b[0m\u001b[1;33m,\u001b[0m \u001b[0mvalue\u001b[0m\u001b[1;33m=\u001b[0m\u001b[1;32mNone\u001b[0m\u001b[1;33m)\u001b[0m\u001b[1;33m:\u001b[0m\u001b[1;33m\u001b[0m\u001b[0m\n",
      "\u001b[1;32mc:\\users\\dell\\appdata\\local\\programs\\python\\python36\\lib\\site-packages\\selenium\\webdriver\\remote\\webdriver.py\u001b[0m in \u001b[0;36mexecute\u001b[1;34m(self, driver_command, params)\u001b[0m\n\u001b[0;32m    319\u001b[0m         \u001b[0mresponse\u001b[0m \u001b[1;33m=\u001b[0m \u001b[0mself\u001b[0m\u001b[1;33m.\u001b[0m\u001b[0mcommand_executor\u001b[0m\u001b[1;33m.\u001b[0m\u001b[0mexecute\u001b[0m\u001b[1;33m(\u001b[0m\u001b[0mdriver_command\u001b[0m\u001b[1;33m,\u001b[0m \u001b[0mparams\u001b[0m\u001b[1;33m)\u001b[0m\u001b[1;33m\u001b[0m\u001b[0m\n\u001b[0;32m    320\u001b[0m         \u001b[1;32mif\u001b[0m \u001b[0mresponse\u001b[0m\u001b[1;33m:\u001b[0m\u001b[1;33m\u001b[0m\u001b[0m\n\u001b[1;32m--> 321\u001b[1;33m             \u001b[0mself\u001b[0m\u001b[1;33m.\u001b[0m\u001b[0merror_handler\u001b[0m\u001b[1;33m.\u001b[0m\u001b[0mcheck_response\u001b[0m\u001b[1;33m(\u001b[0m\u001b[0mresponse\u001b[0m\u001b[1;33m)\u001b[0m\u001b[1;33m\u001b[0m\u001b[0m\n\u001b[0m\u001b[0;32m    322\u001b[0m             response['value'] = self._unwrap_value(\n\u001b[0;32m    323\u001b[0m                 response.get('value', None))\n",
      "\u001b[1;32mc:\\users\\dell\\appdata\\local\\programs\\python\\python36\\lib\\site-packages\\selenium\\webdriver\\remote\\errorhandler.py\u001b[0m in \u001b[0;36mcheck_response\u001b[1;34m(self, response)\u001b[0m\n\u001b[0;32m    240\u001b[0m                 \u001b[0malert_text\u001b[0m \u001b[1;33m=\u001b[0m \u001b[0mvalue\u001b[0m\u001b[1;33m[\u001b[0m\u001b[1;34m'alert'\u001b[0m\u001b[1;33m]\u001b[0m\u001b[1;33m.\u001b[0m\u001b[0mget\u001b[0m\u001b[1;33m(\u001b[0m\u001b[1;34m'text'\u001b[0m\u001b[1;33m)\u001b[0m\u001b[1;33m\u001b[0m\u001b[0m\n\u001b[0;32m    241\u001b[0m             \u001b[1;32mraise\u001b[0m \u001b[0mexception_class\u001b[0m\u001b[1;33m(\u001b[0m\u001b[0mmessage\u001b[0m\u001b[1;33m,\u001b[0m \u001b[0mscreen\u001b[0m\u001b[1;33m,\u001b[0m \u001b[0mstacktrace\u001b[0m\u001b[1;33m,\u001b[0m \u001b[0malert_text\u001b[0m\u001b[1;33m)\u001b[0m\u001b[1;33m\u001b[0m\u001b[0m\n\u001b[1;32m--> 242\u001b[1;33m         \u001b[1;32mraise\u001b[0m \u001b[0mexception_class\u001b[0m\u001b[1;33m(\u001b[0m\u001b[0mmessage\u001b[0m\u001b[1;33m,\u001b[0m \u001b[0mscreen\u001b[0m\u001b[1;33m,\u001b[0m \u001b[0mstacktrace\u001b[0m\u001b[1;33m)\u001b[0m\u001b[1;33m\u001b[0m\u001b[0m\n\u001b[0m\u001b[0;32m    243\u001b[0m \u001b[1;33m\u001b[0m\u001b[0m\n\u001b[0;32m    244\u001b[0m     \u001b[1;32mdef\u001b[0m \u001b[0m_value_or_default\u001b[0m\u001b[1;33m(\u001b[0m\u001b[0mself\u001b[0m\u001b[1;33m,\u001b[0m \u001b[0mobj\u001b[0m\u001b[1;33m,\u001b[0m \u001b[0mkey\u001b[0m\u001b[1;33m,\u001b[0m \u001b[0mdefault\u001b[0m\u001b[1;33m)\u001b[0m\u001b[1;33m:\u001b[0m\u001b[1;33m\u001b[0m\u001b[0m\n",
      "\u001b[1;31mStaleElementReferenceException\u001b[0m: Message: stale element reference: element is not attached to the page document\n  (Session info: chrome=56.0.2924.87)\n  (Driver info: chromedriver=2.29.461591 (62ebf098771772160f391d75e589dc567915b233),platform=Windows NT 10.0.17134 x86_64)\n"
     ]
    }
   ],
   "source": [
    "while(i<30):\n",
    "    i=i+1\n",
    "    elems=browser.find_elements_by_class_name('t')\n",
    "    for elem in elems:\n",
    "        print(elem.text)\n",
    "        title=elem.text\n",
    "        title=title.replace('?','').replace('/','').replace('<','').replace('>','').replace('|','').replace('*','').replace('\"','')\n",
    "        elem.find_element_by_tag_name('a').click()\n",
    "        time.sleep(3)\n",
    "        browser.switch_to.window(browser.window_handles[-1])\n",
    "        if is_class_para('para'):\n",
    "            elems_div=browser.find_elements_by_class_name('para')\n",
    "            for elem_div in elems_div:\n",
    "                print(elem_div.text)\n",
    "                with open('D:\\\\Parse\\\\lixiang/'+title+'.txt',\"a\",encoding='utf-8') as f:\n",
    "                    f.write(elem_div.text)\n",
    "                    f.write('\\n')\n",
    "        elif is_element_exist('p'):\n",
    "            elems_p=browser.find_elements_by_tag_name('p')\n",
    "            for elem_p in elems_p:\n",
    "                print(elem_p.text)\n",
    "                with open('D:\\\\Parse\\\\lixiang/'+title+'.txt',\"a\",encoding='utf-8') as f:\n",
    "                    f.write(elem_p.text)\n",
    "                    f.write('\\n')\n",
    "        browser.close()\n",
    "        browser.switch_to.window(browser.window_handles[0])\n",
    "    browser.find_elements_by_class_name('n')[-1].click()\n",
    "    time.sleep(3)\n",
    "    browser.switch_to.window(browser.window_handles[0])"
   ]
  },
  {
   "cell_type": "code",
   "execution_count": null,
   "metadata": {},
   "outputs": [],
   "source": [
    "title=\"abcdefg\"\n",
    "title=title.replace('a','h').replace('b','h').replace('c','h').replace('d','h')\n",
    "title"
   ]
  },
  {
   "cell_type": "code",
   "execution_count": null,
   "metadata": {},
   "outputs": [],
   "source": []
  }
 ],
 "metadata": {
  "kernelspec": {
   "display_name": "Python 3",
   "language": "python",
   "name": "python3"
  },
  "language_info": {
   "codemirror_mode": {
    "name": "ipython",
    "version": 3
   },
   "file_extension": ".py",
   "mimetype": "text/x-python",
   "name": "python",
   "nbconvert_exporter": "python",
   "pygments_lexer": "ipython3",
   "version": "3.6.6"
  }
 },
 "nbformat": 4,
 "nbformat_minor": 2
}
