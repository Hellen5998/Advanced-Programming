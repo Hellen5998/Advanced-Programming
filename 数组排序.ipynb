{
 "cells": [
  {
   "cell_type": "code",
   "execution_count": 1,
   "metadata": {},
   "outputs": [
    {
     "name": "stdout",
     "output_type": "stream",
     "text": [
      "Using matplotlib backend: TkAgg\n",
      "Populating the interactive namespace from numpy and matplotlib\n"
     ]
    }
   ],
   "source": [
    "%pylab"
   ]
  },
  {
   "cell_type": "code",
   "execution_count": 2,
   "metadata": {},
   "outputs": [
    {
     "data": {
      "text/plain": [
       "array([20.8, 53.4, 61.8, 93.2])"
      ]
     },
     "execution_count": 2,
     "metadata": {},
     "output_type": "execute_result"
    }
   ],
   "source": [
    "names=array(['bob','sue','jan','ad'])\n",
    "weights=array([20.8,93.2,53.4,61.8])\n",
    "sort(weights)"
   ]
  },
  {
   "cell_type": "code",
   "execution_count": 3,
   "metadata": {},
   "outputs": [
    {
     "data": {
      "text/plain": [
       "array([0, 2, 3, 1], dtype=int64)"
      ]
     },
     "execution_count": 3,
     "metadata": {},
     "output_type": "execute_result"
    }
   ],
   "source": [
    "ordered_indices=argsort(weights)\n",
    "ordered_indices  #索引"
   ]
  },
  {
   "cell_type": "code",
   "execution_count": 4,
   "metadata": {},
   "outputs": [
    {
     "data": {
      "text/plain": [
       "array([20.8, 53.4, 61.8, 93.2])"
      ]
     },
     "execution_count": 4,
     "metadata": {},
     "output_type": "execute_result"
    }
   ],
   "source": [
    "weights[ordered_indices]"
   ]
  },
  {
   "cell_type": "code",
   "execution_count": 6,
   "metadata": {},
   "outputs": [
    {
     "data": {
      "text/plain": [
       "array(['bob', 'jan', 'ad', 'sue'], dtype='<U3')"
      ]
     },
     "execution_count": 6,
     "metadata": {},
     "output_type": "execute_result"
    }
   ],
   "source": [
    "names[ordered_indices]"
   ]
  },
  {
   "cell_type": "code",
   "execution_count": 7,
   "metadata": {},
   "outputs": [
    {
     "data": {
      "text/plain": [
       "array([20.8, 93.2, 53.4, 61.8])"
      ]
     },
     "execution_count": 7,
     "metadata": {},
     "output_type": "execute_result"
    }
   ],
   "source": [
    "weights"
   ]
  },
  {
   "cell_type": "code",
   "execution_count": 8,
   "metadata": {},
   "outputs": [
    {
     "data": {
      "text/plain": [
       "array([0, 2, 3, 1], dtype=int64)"
      ]
     },
     "execution_count": 8,
     "metadata": {},
     "output_type": "execute_result"
    }
   ],
   "source": [
    "data=array([20.8,93.2,53.4,61.8])\n",
    "data.argsort()"
   ]
  },
  {
   "cell_type": "code",
   "execution_count": 9,
   "metadata": {},
   "outputs": [
    {
     "data": {
      "text/plain": [
       "array([20.8, 93.2, 53.4, 61.8])"
      ]
     },
     "execution_count": 9,
     "metadata": {},
     "output_type": "execute_result"
    }
   ],
   "source": [
    "data"
   ]
  },
  {
   "cell_type": "code",
   "execution_count": 10,
   "metadata": {},
   "outputs": [],
   "source": [
    "data.sort()"
   ]
  },
  {
   "cell_type": "code",
   "execution_count": 11,
   "metadata": {},
   "outputs": [
    {
     "data": {
      "text/plain": [
       "array([20.8, 53.4, 61.8, 93.2])"
      ]
     },
     "execution_count": 11,
     "metadata": {},
     "output_type": "execute_result"
    }
   ],
   "source": [
    "data #data值被改变"
   ]
  },
  {
   "cell_type": "code",
   "execution_count": 12,
   "metadata": {},
   "outputs": [
    {
     "data": {
      "text/plain": [
       "array([[0.2, 0.1, 0.5],\n",
       "       [0.4, 0.8, 0.3],\n",
       "       [0.9, 0.6, 0.7]])"
      ]
     },
     "execution_count": 12,
     "metadata": {},
     "output_type": "execute_result"
    }
   ],
   "source": [
    "a = array([\n",
    "        [.2, .1, .5], \n",
    "        [.4, .8, .3],\n",
    "        [.9, .6, .7]\n",
    "    ])\n",
    "a"
   ]
  },
  {
   "cell_type": "code",
   "execution_count": 13,
   "metadata": {},
   "outputs": [
    {
     "data": {
      "text/plain": [
       "array([[0.1, 0.2, 0.5],\n",
       "       [0.3, 0.4, 0.8],\n",
       "       [0.6, 0.7, 0.9]])"
      ]
     },
     "execution_count": 13,
     "metadata": {},
     "output_type": "execute_result"
    }
   ],
   "source": [
    "sort(a)"
   ]
  },
  {
   "cell_type": "code",
   "execution_count": 14,
   "metadata": {},
   "outputs": [
    {
     "data": {
      "text/plain": [
       "array([[0.2, 0.1, 0.3],\n",
       "       [0.4, 0.6, 0.5],\n",
       "       [0.9, 0.8, 0.7]])"
      ]
     },
     "execution_count": 14,
     "metadata": {},
     "output_type": "execute_result"
    }
   ],
   "source": [
    "sort(a,axis=0)"
   ]
  },
  {
   "cell_type": "code",
   "execution_count": 15,
   "metadata": {},
   "outputs": [],
   "source": [
    "sorted_array = linspace(0,1,5)\n",
    "values = array([.1,.8,.3,.12,.5,.25])"
   ]
  },
  {
   "cell_type": "code",
   "execution_count": 16,
   "metadata": {},
   "outputs": [
    {
     "data": {
      "text/plain": [
       "array([1, 4, 2, 1, 2, 1], dtype=int64)"
      ]
     },
     "execution_count": 16,
     "metadata": {},
     "output_type": "execute_result"
    }
   ],
   "source": [
    "searchsorted(sorted_array, values)"
   ]
  },
  {
   "cell_type": "code",
   "execution_count": 17,
   "metadata": {},
   "outputs": [],
   "source": [
    "from numpy.random import rand\n",
    "data=rand(100)\n",
    "data.sort()"
   ]
  },
  {
   "cell_type": "code",
   "execution_count": 18,
   "metadata": {},
   "outputs": [
    {
     "data": {
      "text/plain": [
       "array([0.00493349, 0.03369062, 0.03379794, 0.04579585, 0.04981957,\n",
       "       0.0507171 , 0.0694779 , 0.07657936, 0.07768521, 0.0781979 ,\n",
       "       0.08021842, 0.08263486, 0.08383398, 0.10646301, 0.11739944,\n",
       "       0.11816812, 0.12066194, 0.12426725, 0.143359  , 0.15487065,\n",
       "       0.1680705 , 0.18838198, 0.20323717, 0.21449193, 0.22355475,\n",
       "       0.23723269, 0.24268199, 0.24657091, 0.25675083, 0.25773483,\n",
       "       0.28001136, 0.29113348, 0.30029744, 0.30142353, 0.32669625,\n",
       "       0.33455657, 0.33796825, 0.33860103, 0.34129246, 0.35410914,\n",
       "       0.35962612, 0.38699174, 0.39001403, 0.40401449, 0.41194768,\n",
       "       0.41935163, 0.42256593, 0.43831829, 0.44603977, 0.4692147 ,\n",
       "       0.46923056, 0.4738191 , 0.47757588, 0.49884327, 0.50956655,\n",
       "       0.51554458, 0.52358871, 0.5260775 , 0.53089446, 0.53298804,\n",
       "       0.53710365, 0.53811386, 0.56088765, 0.56739805, 0.58951578,\n",
       "       0.59318114, 0.60884582, 0.617857  , 0.62095392, 0.62822389,\n",
       "       0.64239999, 0.6440485 , 0.64888956, 0.65351982, 0.68482373,\n",
       "       0.70840011, 0.71865045, 0.72830171, 0.73196978, 0.74972012,\n",
       "       0.75434861, 0.77362996, 0.78516857, 0.79142829, 0.79964976,\n",
       "       0.80892259, 0.82286268, 0.83084589, 0.84154785, 0.84851221,\n",
       "       0.87622269, 0.90016356, 0.92526618, 0.93621821, 0.96395691,\n",
       "       0.96421891, 0.98685736, 0.98976641, 0.9976105 , 0.99903087])"
      ]
     },
     "execution_count": 18,
     "metadata": {},
     "output_type": "execute_result"
    }
   ],
   "source": [
    "data"
   ]
  },
  {
   "cell_type": "code",
   "execution_count": 19,
   "metadata": {},
   "outputs": [
    {
     "data": {
      "text/plain": [
       "(0.4, 0.6)"
      ]
     },
     "execution_count": 19,
     "metadata": {},
     "output_type": "execute_result"
    }
   ],
   "source": [
    "bounds=.4,.6\n",
    "bounds"
   ]
  },
  {
   "cell_type": "code",
   "execution_count": 20,
   "metadata": {},
   "outputs": [],
   "source": [
    "low_idx,high_idx=searchsorted(data,bounds)"
   ]
  },
  {
   "cell_type": "code",
   "execution_count": 21,
   "metadata": {},
   "outputs": [
    {
     "data": {
      "text/plain": [
       "array([0.40401449, 0.41194768, 0.41935163, 0.42256593, 0.43831829,\n",
       "       0.44603977, 0.4692147 , 0.46923056, 0.4738191 , 0.47757588,\n",
       "       0.49884327, 0.50956655, 0.51554458, 0.52358871, 0.5260775 ,\n",
       "       0.53089446, 0.53298804, 0.53710365, 0.53811386, 0.56088765,\n",
       "       0.56739805, 0.58951578, 0.59318114])"
      ]
     },
     "execution_count": 21,
     "metadata": {},
     "output_type": "execute_result"
    }
   ],
   "source": [
    "data[low_idx:high_idx]"
   ]
  },
  {
   "cell_type": "code",
   "execution_count": null,
   "metadata": {},
   "outputs": [],
   "source": []
  }
 ],
 "metadata": {
  "kernelspec": {
   "display_name": "Python 3",
   "language": "python",
   "name": "python3"
  },
  "language_info": {
   "codemirror_mode": {
    "name": "ipython",
    "version": 3
   },
   "file_extension": ".py",
   "mimetype": "text/x-python",
   "name": "python",
   "nbconvert_exporter": "python",
   "pygments_lexer": "ipython3",
   "version": "3.6.6"
  }
 },
 "nbformat": 4,
 "nbformat_minor": 2
}
