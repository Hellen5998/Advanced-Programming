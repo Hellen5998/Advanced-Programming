{
 "cells": [
  {
   "cell_type": "code",
   "execution_count": 2,
   "metadata": {},
   "outputs": [],
   "source": [
    "from nltk.util import ngrams"
   ]
  },
  {
   "cell_type": "code",
   "execution_count": 7,
   "metadata": {},
   "outputs": [],
   "source": [
    "a='''\n",
    "BEIJING - President Xi Jinping left Beijing Tuesday for state visits to Spain, Argentina, Panama and Portugal, and the 13th Group of 20 (G20) summit in Buenos Aires, Argentina.\n",
    "'''"
   ]
  },
  {
   "cell_type": "code",
   "execution_count": 14,
   "metadata": {},
   "outputs": [],
   "source": [
    "alst=a.split(' ')"
   ]
  },
  {
   "cell_type": "code",
   "execution_count": 15,
   "metadata": {},
   "outputs": [
    {
     "data": {
      "text/plain": [
       "['\\nBEIJING',\n",
       " '-',\n",
       " 'President',\n",
       " 'Xi',\n",
       " 'Jinping',\n",
       " 'left',\n",
       " 'Beijing',\n",
       " 'Tuesday',\n",
       " 'for',\n",
       " 'state',\n",
       " 'visits',\n",
       " 'to',\n",
       " 'Spain,',\n",
       " 'Argentina,',\n",
       " 'Panama',\n",
       " 'and',\n",
       " 'Portugal,',\n",
       " 'and',\n",
       " 'the',\n",
       " '13th',\n",
       " 'Group',\n",
       " 'of',\n",
       " '20',\n",
       " '(G20)',\n",
       " 'summit',\n",
       " 'in',\n",
       " 'Buenos',\n",
       " 'Aires,',\n",
       " 'Argentina.\\n']"
      ]
     },
     "execution_count": 15,
     "metadata": {},
     "output_type": "execute_result"
    }
   ],
   "source": [
    "alst"
   ]
  },
  {
   "cell_type": "code",
   "execution_count": 5,
   "metadata": {},
   "outputs": [],
   "source": [
    "from nltk import word_tokenize"
   ]
  },
  {
   "cell_type": "code",
   "execution_count": 6,
   "metadata": {},
   "outputs": [],
   "source": [
    "wlst=word_tokenize(a)"
   ]
  },
  {
   "cell_type": "code",
   "execution_count": 9,
   "metadata": {},
   "outputs": [],
   "source": [
    "b=ngrams(wlst,2)"
   ]
  },
  {
   "cell_type": "code",
   "execution_count": 10,
   "metadata": {},
   "outputs": [
    {
     "data": {
      "text/plain": [
       "<generator object ngrams at 0x000002D1F6866BA0>"
      ]
     },
     "execution_count": 10,
     "metadata": {},
     "output_type": "execute_result"
    }
   ],
   "source": [
    "b"
   ]
  },
  {
   "cell_type": "code",
   "execution_count": 11,
   "metadata": {},
   "outputs": [
    {
     "name": "stdout",
     "output_type": "stream",
     "text": [
      "<generator object ngrams at 0x000002D1F6866BA0>\n",
      "<generator object ngrams at 0x000002D1F6866BA0>\n",
      "<generator object ngrams at 0x000002D1F6866BA0>\n",
      "<generator object ngrams at 0x000002D1F6866BA0>\n",
      "<generator object ngrams at 0x000002D1F6866BA0>\n",
      "<generator object ngrams at 0x000002D1F6866BA0>\n",
      "<generator object ngrams at 0x000002D1F6866BA0>\n",
      "<generator object ngrams at 0x000002D1F6866BA0>\n",
      "<generator object ngrams at 0x000002D1F6866BA0>\n",
      "<generator object ngrams at 0x000002D1F6866BA0>\n",
      "<generator object ngrams at 0x000002D1F6866BA0>\n",
      "<generator object ngrams at 0x000002D1F6866BA0>\n",
      "<generator object ngrams at 0x000002D1F6866BA0>\n",
      "<generator object ngrams at 0x000002D1F6866BA0>\n",
      "<generator object ngrams at 0x000002D1F6866BA0>\n",
      "<generator object ngrams at 0x000002D1F6866BA0>\n",
      "<generator object ngrams at 0x000002D1F6866BA0>\n",
      "<generator object ngrams at 0x000002D1F6866BA0>\n",
      "<generator object ngrams at 0x000002D1F6866BA0>\n",
      "<generator object ngrams at 0x000002D1F6866BA0>\n",
      "<generator object ngrams at 0x000002D1F6866BA0>\n",
      "<generator object ngrams at 0x000002D1F6866BA0>\n",
      "<generator object ngrams at 0x000002D1F6866BA0>\n",
      "<generator object ngrams at 0x000002D1F6866BA0>\n",
      "<generator object ngrams at 0x000002D1F6866BA0>\n",
      "<generator object ngrams at 0x000002D1F6866BA0>\n",
      "<generator object ngrams at 0x000002D1F6866BA0>\n",
      "<generator object ngrams at 0x000002D1F6866BA0>\n",
      "<generator object ngrams at 0x000002D1F6866BA0>\n",
      "<generator object ngrams at 0x000002D1F6866BA0>\n",
      "<generator object ngrams at 0x000002D1F6866BA0>\n",
      "<generator object ngrams at 0x000002D1F6866BA0>\n",
      "<generator object ngrams at 0x000002D1F6866BA0>\n",
      "<generator object ngrams at 0x000002D1F6866BA0>\n",
      "<generator object ngrams at 0x000002D1F6866BA0>\n"
     ]
    }
   ],
   "source": [
    "for i in b:\n",
    "    print(b)"
   ]
  },
  {
   "cell_type": "code",
   "execution_count": 12,
   "metadata": {},
   "outputs": [],
   "source": [
    "b=ngrams(wlst,2)"
   ]
  },
  {
   "cell_type": "code",
   "execution_count": 16,
   "metadata": {},
   "outputs": [],
   "source": [
    "bgrams=[i for i in b]"
   ]
  },
  {
   "cell_type": "code",
   "execution_count": 17,
   "metadata": {},
   "outputs": [
    {
     "data": {
      "text/plain": [
       "[('BEIJING', '-'),\n",
       " ('-', 'President'),\n",
       " ('President', 'Xi'),\n",
       " ('Xi', 'Jinping'),\n",
       " ('Jinping', 'left'),\n",
       " ('left', 'Beijing'),\n",
       " ('Beijing', 'Tuesday'),\n",
       " ('Tuesday', 'for'),\n",
       " ('for', 'state'),\n",
       " ('state', 'visits'),\n",
       " ('visits', 'to'),\n",
       " ('to', 'Spain'),\n",
       " ('Spain', ','),\n",
       " (',', 'Argentina'),\n",
       " ('Argentina', ','),\n",
       " (',', 'Panama'),\n",
       " ('Panama', 'and'),\n",
       " ('and', 'Portugal'),\n",
       " ('Portugal', ','),\n",
       " (',', 'and'),\n",
       " ('and', 'the'),\n",
       " ('the', '13th'),\n",
       " ('13th', 'Group'),\n",
       " ('Group', 'of'),\n",
       " ('of', '20'),\n",
       " ('20', '('),\n",
       " ('(', 'G20'),\n",
       " ('G20', ')'),\n",
       " (')', 'summit'),\n",
       " ('summit', 'in'),\n",
       " ('in', 'Buenos'),\n",
       " ('Buenos', 'Aires'),\n",
       " ('Aires', ','),\n",
       " (',', 'Argentina'),\n",
       " ('Argentina', '.')]"
      ]
     },
     "execution_count": 17,
     "metadata": {},
     "output_type": "execute_result"
    }
   ],
   "source": [
    "bgrams"
   ]
  },
  {
   "cell_type": "code",
   "execution_count": 22,
   "metadata": {},
   "outputs": [],
   "source": [
    "t=ngrams(wlst,3)"
   ]
  },
  {
   "cell_type": "code",
   "execution_count": 23,
   "metadata": {},
   "outputs": [],
   "source": [
    "trigrams=[i for i in t]"
   ]
  },
  {
   "cell_type": "code",
   "execution_count": 24,
   "metadata": {},
   "outputs": [
    {
     "name": "stdout",
     "output_type": "stream",
     "text": [
      "[('BEIJING', '-', 'President'), ('-', 'President', 'Xi'), ('President', 'Xi', 'Jinping'), ('Xi', 'Jinping', 'left'), ('Jinping', 'left', 'Beijing'), ('left', 'Beijing', 'Tuesday'), ('Beijing', 'Tuesday', 'for'), ('Tuesday', 'for', 'state'), ('for', 'state', 'visits'), ('state', 'visits', 'to'), ('visits', 'to', 'Spain'), ('to', 'Spain', ','), ('Spain', ',', 'Argentina'), (',', 'Argentina', ','), ('Argentina', ',', 'Panama'), (',', 'Panama', 'and'), ('Panama', 'and', 'Portugal'), ('and', 'Portugal', ','), ('Portugal', ',', 'and'), (',', 'and', 'the'), ('and', 'the', '13th'), ('the', '13th', 'Group'), ('13th', 'Group', 'of'), ('Group', 'of', '20'), ('of', '20', '('), ('20', '(', 'G20'), ('(', 'G20', ')'), ('G20', ')', 'summit'), (')', 'summit', 'in'), ('summit', 'in', 'Buenos'), ('in', 'Buenos', 'Aires'), ('Buenos', 'Aires', ','), ('Aires', ',', 'Argentina'), (',', 'Argentina', '.')]\n"
     ]
    }
   ],
   "source": [
    "print(trigrams)"
   ]
  },
  {
   "cell_type": "code",
   "execution_count": 25,
   "metadata": {},
   "outputs": [
    {
     "data": {
      "text/plain": [
       "('BEIJING', '-', 'President')"
      ]
     },
     "execution_count": 25,
     "metadata": {},
     "output_type": "execute_result"
    }
   ],
   "source": [
    "trigrams[0]"
   ]
  }
 ],
 "metadata": {
  "kernelspec": {
   "display_name": "Python 3",
   "language": "python",
   "name": "python3"
  },
  "language_info": {
   "codemirror_mode": {
    "name": "ipython",
    "version": 3
   },
   "file_extension": ".py",
   "mimetype": "text/x-python",
   "name": "python",
   "nbconvert_exporter": "python",
   "pygments_lexer": "ipython3",
   "version": "3.6.6"
  }
 },
 "nbformat": 4,
 "nbformat_minor": 2
}
