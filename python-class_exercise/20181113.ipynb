{
 "cells": [
  {
   "cell_type": "code",
   "execution_count": 1,
   "metadata": {},
   "outputs": [],
   "source": [
    "import re"
   ]
  },
  {
   "cell_type": "code",
   "execution_count": 3,
   "metadata": {},
   "outputs": [],
   "source": [
    "data={}\n",
    "data[u'成语']=u'半斤八两'\n",
    "data[u'拼音']=u'ban jin ba liang'"
   ]
  },
  {
   "cell_type": "code",
   "execution_count": 5,
   "metadata": {},
   "outputs": [],
   "source": [
    "m=re.match('ca*t','cat')"
   ]
  },
  {
   "cell_type": "code",
   "execution_count": 6,
   "metadata": {},
   "outputs": [
    {
     "data": {
      "text/plain": [
       "'cat'"
      ]
     },
     "execution_count": 6,
     "metadata": {},
     "output_type": "execute_result"
    }
   ],
   "source": [
    "m.group(0)"
   ]
  },
  {
   "cell_type": "code",
   "execution_count": 7,
   "metadata": {},
   "outputs": [],
   "source": [
    "m=re.match('ca*t','ct')"
   ]
  },
  {
   "cell_type": "code",
   "execution_count": 8,
   "metadata": {},
   "outputs": [
    {
     "data": {
      "text/plain": [
       "'ct'"
      ]
     },
     "execution_count": 8,
     "metadata": {},
     "output_type": "execute_result"
    }
   ],
   "source": [
    "m.group(0)"
   ]
  },
  {
   "cell_type": "code",
   "execution_count": 10,
   "metadata": {},
   "outputs": [
    {
     "name": "stdout",
     "output_type": "stream",
     "text": [
      "ct\n"
     ]
    }
   ],
   "source": [
    "m=re.match('ca*t','ct')\n",
    "if m:print(m.group(0))"
   ]
  },
  {
   "cell_type": "code",
   "execution_count": 14,
   "metadata": {},
   "outputs": [],
   "source": [
    "strl='hello world'\n",
    "pattern='hello (\\w+)'"
   ]
  },
  {
   "cell_type": "code",
   "execution_count": 15,
   "metadata": {},
   "outputs": [],
   "source": [
    "m=re.match(pattern,strl)"
   ]
  },
  {
   "cell_type": "code",
   "execution_count": 16,
   "metadata": {},
   "outputs": [
    {
     "data": {
      "text/plain": [
       "'hello world'"
      ]
     },
     "execution_count": 16,
     "metadata": {},
     "output_type": "execute_result"
    }
   ],
   "source": [
    "m.group(0)"
   ]
  },
  {
   "cell_type": "code",
   "execution_count": 25,
   "metadata": {},
   "outputs": [],
   "source": [
    "str2='sdasf<div>sfasfasfa</div>'"
   ]
  },
  {
   "cell_type": "code",
   "execution_count": 35,
   "metadata": {},
   "outputs": [],
   "source": [
    "pattern='(<\\w+>)(\\w+)(<\\/\\w+>)'"
   ]
  },
  {
   "cell_type": "code",
   "execution_count": 36,
   "metadata": {},
   "outputs": [],
   "source": [
    "m=re.match(pattern,str2)"
   ]
  },
  {
   "cell_type": "code",
   "execution_count": 37,
   "metadata": {},
   "outputs": [
    {
     "ename": "AttributeError",
     "evalue": "'NoneType' object has no attribute 'gourp'",
     "output_type": "error",
     "traceback": [
      "\u001b[1;31m---------------------------------------------------------------------------\u001b[0m",
      "\u001b[1;31mAttributeError\u001b[0m                            Traceback (most recent call last)",
      "\u001b[1;32m<ipython-input-37-58aadbbd6cf0>\u001b[0m in \u001b[0;36m<module>\u001b[1;34m()\u001b[0m\n\u001b[1;32m----> 1\u001b[1;33m \u001b[0mm\u001b[0m\u001b[1;33m.\u001b[0m\u001b[0mgourp\u001b[0m\u001b[1;33m(\u001b[0m\u001b[1;36m0\u001b[0m\u001b[1;33m)\u001b[0m\u001b[1;33m\u001b[0m\u001b[0m\n\u001b[0m",
      "\u001b[1;31mAttributeError\u001b[0m: 'NoneType' object has no attribute 'gourp'"
     ]
    }
   ],
   "source": [
    "m.gourp(0)"
   ]
  },
  {
   "cell_type": "code",
   "execution_count": 38,
   "metadata": {},
   "outputs": [
    {
     "data": {
      "text/plain": [
       "[('ROOT', 0, 6),\n",
       " ('advmod', 6, 1),\n",
       " ('advmod', 3, 2),\n",
       " ('amod', 6, 3),\n",
       " ('mark', 3, 4),\n",
       " ('amod', 6, 5),\n",
       " ('punct', 6, 7),\n",
       " ('ROOT', 0, 8),\n",
       " ('advmod', 8, 1),\n",
       " ('punct', 8, 2),\n",
       " ('nmod:tmod', 8, 3),\n",
       " ('punct', 8, 4),\n",
       " ('nmod:assmod', 7, 5),\n",
       " ('compound:nn', 7, 6),\n",
       " ('nsubj', 8, 7),\n",
       " ('compound:nn', 10, 9),\n",
       " ('dep', 19, 10),\n",
       " ('punct', 19, 11),\n",
       " ('nmod', 14, 12),\n",
       " ('amod', 14, 13),\n",
       " ('dep', 19, 14),\n",
       " ('punct', 19, 15),\n",
       " ('cc', 19, 16),\n",
       " ('conj', 19, 17),\n",
       " ('punct', 19, 18),\n",
       " ('dobj', 8, 19),\n",
       " ('punct', 19, 20),\n",
       " ('case', 23, 21),\n",
       " ('compound:nn', 23, 22),\n",
       " ('nmod', 25, 23),\n",
       " ('case', 23, 24),\n",
       " ('compound:nn', 26, 25),\n",
       " ('nsubj', 27, 26),\n",
       " ('conj', 19, 27),\n",
       " ('punct', 8, 28),\n",
       " ('ROOT', 0, 2),\n",
       " ('nsubj', 2, 1),\n",
       " ('punct', 2, 3),\n",
       " ('nsubj', 13, 4),\n",
       " ('cop', 13, 5),\n",
       " ('case', 11, 6),\n",
       " ('case', 10, 7),\n",
       " ('det', 10, 8),\n",
       " ('compound:nn', 10, 9),\n",
       " ('nmod:prep', 11, 10),\n",
       " ('nmod:prep', 13, 11),\n",
       " ('punct', 13, 12),\n",
       " ('ccomp', 2, 13),\n",
       " ('dobj', 13, 14),\n",
       " ('aux:ba', 21, 15),\n",
       " ('advmod', 17, 16),\n",
       " ('dep', 20, 17),\n",
       " ('case', 17, 18),\n",
       " ('compound:nn', 20, 19),\n",
       " ('dep', 21, 20),\n",
       " ('ccomp', 13, 21),\n",
       " ('dobj', 21, 22),\n",
       " ('conj', 21, 23),\n",
       " ('punct', 2, 24)]"
      ]
     },
     "execution_count": 38,
     "metadata": {},
     "output_type": "execute_result"
    }
   ],
   "source": [
    "#coding: utf-8\n",
    "\n",
    "# 引入库\n",
    "\n",
    "from stanfordcorenlp import StanfordCoreNLP\n",
    "\n",
    "# 用与英文处理的客户实例\n",
    "\n",
    "nlp_en = StanfordCoreNLP('http://127.0.0.1', port=2002)   # 请个修改为自己的ip地址和端口号\n",
    "\n",
    "# 用与中文处理的客户实例\n",
    "\n",
    "nlp_cn = StanfordCoreNLP('http://127.0.0.1', port=2003)   # 请个修改为自己的ip地址和端口号\n",
    "\n",
    "en_txt = \"There are more public options, too. For example, in 2013, Chinese state media accused Jaguar Land Rover and Audi of overcharging buyers for car parts, which analysts viewed as part of a campaign to pressure those automakers to locate more manufacturing in China.\"\n",
    "\n",
    "cn_txt = \"还有更多的公开选择。比如，2013年，中国官方媒体指责捷豹路虎(Jaguar Land Rover)和奥迪(Audi)对汽车零部件的买家要价过高。分析师认为，那是在向这些汽车制造商施压，让它们把更多的制造工作搬到中国去。\"\n",
    "\n",
    "# 分词\n",
    "\n",
    "nlp_en.word_tokenize(en_txt)\n",
    "\n",
    "nlp_cn.word_tokenize(cn_txt)\n",
    "\n",
    "# 词性标注\n",
    "\n",
    "nlp_en.pos_tag(en_txt)\n",
    "\n",
    "nlp_cn.pos_tag(cn_txt)\n",
    "\n",
    "# 全名实体识别\n",
    "\n",
    "nlp_en.ner(en_txt)\n",
    "\n",
    "nlp_cn.ner(cn_txt)\n",
    "# 短语句法分析\n",
    "\n",
    "nlp_en.parse(en_txt)\n",
    "\n",
    "nlp_cn.parse(cn_txt)\n",
    "\n",
    "# 依存句法分析 \n",
    "\n",
    "nlp_en.dependency_parse(en_txt)\n",
    "\n",
    "nlp_cn.dependency_parse(cn_txt)"
   ]
  },
  {
   "cell_type": "code",
   "execution_count": 39,
   "metadata": {},
   "outputs": [
    {
     "data": {
      "text/plain": [
       "['There',\n",
       " 'are',\n",
       " 'more',\n",
       " 'public',\n",
       " 'options',\n",
       " ',',\n",
       " 'too',\n",
       " '.',\n",
       " 'For',\n",
       " 'example',\n",
       " ',',\n",
       " 'in',\n",
       " '2013',\n",
       " ',',\n",
       " 'Chinese',\n",
       " 'state',\n",
       " 'media',\n",
       " 'accused',\n",
       " 'Jaguar',\n",
       " 'Land',\n",
       " 'Rover',\n",
       " 'and',\n",
       " 'Audi',\n",
       " 'of',\n",
       " 'overcharging',\n",
       " 'buyers',\n",
       " 'for',\n",
       " 'car',\n",
       " 'parts',\n",
       " ',',\n",
       " 'which',\n",
       " 'analysts',\n",
       " 'viewed',\n",
       " 'as',\n",
       " 'part',\n",
       " 'of',\n",
       " 'a',\n",
       " 'campaign',\n",
       " 'to',\n",
       " 'pressure',\n",
       " 'those',\n",
       " 'automakers',\n",
       " 'to',\n",
       " 'locate',\n",
       " 'more',\n",
       " 'manufacturing',\n",
       " 'in',\n",
       " 'China',\n",
       " '.']"
      ]
     },
     "execution_count": 39,
     "metadata": {},
     "output_type": "execute_result"
    }
   ],
   "source": [
    "nlp_en.word_tokenize(en_txt)"
   ]
  },
  {
   "cell_type": "code",
   "execution_count": 40,
   "metadata": {},
   "outputs": [
    {
     "data": {
      "text/plain": [
       "[('There', 'EX'),\n",
       " ('are', 'VBP'),\n",
       " ('more', 'RBR'),\n",
       " ('public', 'JJ'),\n",
       " ('options', 'NNS'),\n",
       " (',', ','),\n",
       " ('too', 'RB'),\n",
       " ('.', '.'),\n",
       " ('For', 'IN'),\n",
       " ('example', 'NN'),\n",
       " (',', ','),\n",
       " ('in', 'IN'),\n",
       " ('2013', 'CD'),\n",
       " (',', ','),\n",
       " ('Chinese', 'JJ'),\n",
       " ('state', 'NN'),\n",
       " ('media', 'NNS'),\n",
       " ('accused', 'VBD'),\n",
       " ('Jaguar', 'NNP'),\n",
       " ('Land', 'NNP'),\n",
       " ('Rover', 'NNP'),\n",
       " ('and', 'CC'),\n",
       " ('Audi', 'NNP'),\n",
       " ('of', 'IN'),\n",
       " ('overcharging', 'VBG'),\n",
       " ('buyers', 'NNS'),\n",
       " ('for', 'IN'),\n",
       " ('car', 'NN'),\n",
       " ('parts', 'NNS'),\n",
       " (',', ','),\n",
       " ('which', 'WDT'),\n",
       " ('analysts', 'NNS'),\n",
       " ('viewed', 'VBD'),\n",
       " ('as', 'IN'),\n",
       " ('part', 'NN'),\n",
       " ('of', 'IN'),\n",
       " ('a', 'DT'),\n",
       " ('campaign', 'NN'),\n",
       " ('to', 'TO'),\n",
       " ('pressure', 'VB'),\n",
       " ('those', 'DT'),\n",
       " ('automakers', 'NNS'),\n",
       " ('to', 'TO'),\n",
       " ('locate', 'VB'),\n",
       " ('more', 'JJR'),\n",
       " ('manufacturing', 'NN'),\n",
       " ('in', 'IN'),\n",
       " ('China', 'NNP'),\n",
       " ('.', '.')]"
      ]
     },
     "execution_count": 40,
     "metadata": {},
     "output_type": "execute_result"
    }
   ],
   "source": [
    "nlp_en.pos_tag(en_txt)"
   ]
  },
  {
   "cell_type": "code",
   "execution_count": 47,
   "metadata": {},
   "outputs": [
    {
     "data": {
      "text/plain": [
       "[('', 'O'),\n",
       " ('', 'O'),\n",
       " ('', 'O'),\n",
       " ('', 'O'),\n",
       " ('', 'O'),\n",
       " ('', 'O'),\n",
       " ('', 'O'),\n",
       " ('', 'O'),\n",
       " ('', 'O'),\n",
       " ('', 'DATE'),\n",
       " ('', 'O'),\n",
       " ('', 'DEMONYM'),\n",
       " ('', 'O'),\n",
       " ('', 'O'),\n",
       " ('', 'O'),\n",
       " ('', 'ORGANIZATION'),\n",
       " ('', 'ORGANIZATION'),\n",
       " ('', 'O'),\n",
       " ('', 'O'),\n",
       " ('', 'O'),\n",
       " ('', 'O'),\n",
       " ('', 'O'),\n",
       " ('', 'O'),\n",
       " ('', 'O'),\n",
       " ('', 'O'),\n",
       " ('', 'O'),\n",
       " ('', 'O'),\n",
       " ('', 'O'),\n",
       " ('', 'O'),\n",
       " ('', 'O'),\n",
       " ('', 'O'),\n",
       " ('', 'O'),\n",
       " ('', 'O'),\n",
       " ('', 'O'),\n",
       " ('', 'O'),\n",
       " ('', 'O'),\n",
       " ('', 'O'),\n",
       " ('', 'O'),\n",
       " ('', 'O'),\n",
       " ('', 'O'),\n",
       " ('', 'O'),\n",
       " ('', 'O'),\n",
       " ('', 'O'),\n",
       " ('', 'O'),\n",
       " ('', 'O'),\n",
       " ('', 'O'),\n",
       " ('', 'O'),\n",
       " ('', 'O'),\n",
       " ('', 'O'),\n",
       " ('', 'O'),\n",
       " ('', 'O'),\n",
       " ('', 'NUMBER'),\n",
       " ('', 'O'),\n",
       " ('', 'O'),\n",
       " ('', 'O'),\n",
       " ('', 'O'),\n",
       " ('', 'GPE'),\n",
       " ('', 'O'),\n",
       " ('', 'O')]"
      ]
     },
     "execution_count": 47,
     "metadata": {},
     "output_type": "execute_result"
    }
   ],
   "source": [
    "nlp_cn.ner(cn_txt)"
   ]
  },
  {
   "cell_type": "code",
   "execution_count": 42,
   "metadata": {},
   "outputs": [
    {
     "data": {
      "text/plain": [
       "[('There', 'O'),\n",
       " ('are', 'O'),\n",
       " ('more', 'O'),\n",
       " ('public', 'O'),\n",
       " ('options', 'O'),\n",
       " (',', 'O'),\n",
       " ('too', 'O'),\n",
       " ('.', 'O'),\n",
       " ('For', 'O'),\n",
       " ('example', 'O'),\n",
       " (',', 'O'),\n",
       " ('in', 'O'),\n",
       " ('2013', 'DATE'),\n",
       " (',', 'O'),\n",
       " ('Chinese', 'MISC'),\n",
       " ('state', 'O'),\n",
       " ('media', 'O'),\n",
       " ('accused', 'O'),\n",
       " ('Jaguar', 'ORGANIZATION'),\n",
       " ('Land', 'ORGANIZATION'),\n",
       " ('Rover', 'ORGANIZATION'),\n",
       " ('and', 'O'),\n",
       " ('Audi', 'ORGANIZATION'),\n",
       " ('of', 'O'),\n",
       " ('overcharging', 'O'),\n",
       " ('buyers', 'O'),\n",
       " ('for', 'O'),\n",
       " ('car', 'O'),\n",
       " ('parts', 'O'),\n",
       " (',', 'O'),\n",
       " ('which', 'O'),\n",
       " ('analysts', 'O'),\n",
       " ('viewed', 'O'),\n",
       " ('as', 'O'),\n",
       " ('part', 'O'),\n",
       " ('of', 'O'),\n",
       " ('a', 'O'),\n",
       " ('campaign', 'O'),\n",
       " ('to', 'O'),\n",
       " ('pressure', 'O'),\n",
       " ('those', 'O'),\n",
       " ('automakers', 'O'),\n",
       " ('to', 'O'),\n",
       " ('locate', 'O'),\n",
       " ('more', 'O'),\n",
       " ('manufacturing', 'O'),\n",
       " ('in', 'O'),\n",
       " ('China', 'LOCATION'),\n",
       " ('.', 'O')]"
      ]
     },
     "execution_count": 42,
     "metadata": {},
     "output_type": "execute_result"
    }
   ],
   "source": [
    "nlp_en.ner(en_txt)"
   ]
  },
  {
   "cell_type": "code",
   "execution_count": 43,
   "metadata": {},
   "outputs": [
    {
     "data": {
      "text/plain": [
       "'(ROOT\\r\\n  (S\\r\\n    (NP (EX There))\\r\\n    (VP (VBP are)\\r\\n      (NP\\r\\n        (ADJP (RBR more) (JJ public))\\r\\n        (NNS options))\\r\\n      (, ,)\\r\\n      (ADVP (RB too)))\\r\\n    (. .)))'"
      ]
     },
     "execution_count": 43,
     "metadata": {},
     "output_type": "execute_result"
    }
   ],
   "source": [
    "nlp_en.parse(en_txt)   #分析句子成分"
   ]
  },
  {
   "cell_type": "code",
   "execution_count": 46,
   "metadata": {},
   "outputs": [
    {
     "name": "stdout",
     "output_type": "stream",
     "text": [
      "(ROOT\r\n",
      "  (S\r\n",
      "    (NP (EX There))\r\n",
      "    (VP (VBP are)\r\n",
      "      (NP\r\n",
      "        (ADJP (RBR more) (JJ public))\r\n",
      "        (NNS options))\r\n",
      "      (, ,)\r\n",
      "      (ADVP (RB too)))\r\n",
      "    (. .)))\n"
     ]
    }
   ],
   "source": [
    "print(nlp_en.parse(en_txt))"
   ]
  },
  {
   "cell_type": "code",
   "execution_count": null,
   "metadata": {},
   "outputs": [],
   "source": []
  }
 ],
 "metadata": {
  "kernelspec": {
   "display_name": "Python 3",
   "language": "python",
   "name": "python3"
  },
  "language_info": {
   "codemirror_mode": {
    "name": "ipython",
    "version": 3
   },
   "file_extension": ".py",
   "mimetype": "text/x-python",
   "name": "python",
   "nbconvert_exporter": "python",
   "pygments_lexer": "ipython3",
   "version": "3.6.6"
  }
 },
 "nbformat": 4,
 "nbformat_minor": 2
}
