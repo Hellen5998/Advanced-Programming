{
 "cells": [
  {
   "cell_type": "code",
   "execution_count": 1,
   "metadata": {},
   "outputs": [],
   "source": [
    "import os"
   ]
  },
  {
   "cell_type": "code",
   "execution_count": 2,
   "metadata": {},
   "outputs": [
    {
     "data": {
      "text/plain": [
       "16208"
      ]
     },
     "execution_count": 2,
     "metadata": {},
     "output_type": "execute_result"
    }
   ],
   "source": [
    "os.getpid()"
   ]
  },
  {
   "cell_type": "code",
   "execution_count": 3,
   "metadata": {},
   "outputs": [],
   "source": [
    "#多进程\n",
    "import multiprocessing"
   ]
  },
  {
   "cell_type": "code",
   "execution_count": 4,
   "metadata": {},
   "outputs": [],
   "source": [
    "from multiprocessing import Process"
   ]
  },
  {
   "cell_type": "code",
   "execution_count": 5,
   "metadata": {},
   "outputs": [],
   "source": [
    "def proc(i):\n",
    "    print(\"I'm process %d\"%(i))"
   ]
  },
  {
   "cell_type": "code",
   "execution_count": 8,
   "metadata": {},
   "outputs": [
    {
     "name": "stdout",
     "output_type": "stream",
     "text": [
      "p.id: 15236\n",
      "p.name: Process-2\n",
      "p.alive True\n",
      "p.id: 13724\n",
      "p.name: Process-3\n",
      "p.alive True\n",
      "p.id: 1524\n",
      "p.name: Process-4\n",
      "p.alive True\n",
      "p.id: 24016\n",
      "p.name: Process-5\n",
      "p.alive True\n",
      "p.id: 28856\n",
      "p.name: Process-6\n",
      "p.alive True\n",
      "p.id: 20560\n",
      "p.name: Process-7\n",
      "p.alive True\n",
      "p.id: 25136\n",
      "p.name: Process-8\n",
      "p.alive True\n",
      "p.id: 27620\n",
      "p.name: Process-9\n",
      "p.alive True\n",
      "p.id: 15252\n",
      "p.name: Process-10\n",
      "p.alive True\n",
      "p.id: 8672\n",
      "p.name: Process-11\n",
      "p.alive True\n"
     ]
    }
   ],
   "source": [
    "for j in range(10):\n",
    "    p=Process(target=proc,args=(j,))       #两个参数，target=启动进程的内容，args传一个元组\n",
    "    p.start()  #启动进程\n",
    "    print(\"p.id:\",p.pid)\n",
    "    print(\"p.name:\",p.name)\n",
    "    print(\"p.alive\",p.is_alive())\n",
    "    "
   ]
  },
  {
   "cell_type": "code",
   "execution_count": 9,
   "metadata": {},
   "outputs": [
    {
     "name": "stdout",
     "output_type": "stream",
     "text": [
      "p.id: 27524\n",
      "p.name: Process-12\n",
      "p.alive True\n",
      "p.id: 29224\n",
      "p.name: Process-13\n",
      "p.alive True\n",
      "p.id: 26252\n",
      "p.name: Process-14\n",
      "p.alive True\n",
      "p.id: 7992\n",
      "p.name: Process-15\n",
      "p.alive True\n",
      "p.id: 27684\n",
      "p.name: Process-16\n",
      "p.alive True\n",
      "p.id: 18356\n",
      "p.name: Process-17\n",
      "p.alive True\n",
      "p.id: 6424\n",
      "p.name: Process-18\n",
      "p.alive True\n",
      "p.id: 13328\n",
      "p.name: Process-19\n",
      "p.alive True\n",
      "p.id: 29332\n",
      "p.name: Process-20\n",
      "p.alive True\n",
      "p.id: 30532\n",
      "p.name: Process-21\n",
      "p.alive True\n",
      "p.id: 12336\n",
      "p.name: Process-22\n",
      "p.alive True\n",
      "p.id: 10804\n",
      "p.name: Process-23\n",
      "p.alive True\n",
      "p.id: 20488\n",
      "p.name: Process-24\n",
      "p.alive True\n",
      "p.id: 21328\n",
      "p.name: Process-25\n",
      "p.alive True\n",
      "p.id: 9328\n",
      "p.name: Process-26\n",
      "p.alive True\n",
      "p.id: 25928\n",
      "p.name: Process-27\n",
      "p.alive True\n",
      "p.id: 6760\n",
      "p.name: Process-28\n",
      "p.alive True\n",
      "p.id: 9112\n",
      "p.name: Process-29\n",
      "p.alive True\n",
      "p.id: 2200\n",
      "p.name: Process-30\n",
      "p.alive True\n",
      "p.id: 3416\n",
      "p.name: Process-31\n",
      "p.alive True\n"
     ]
    }
   ],
   "source": [
    "import time\n",
    "def proc(i):\n",
    "    print(\"I'm process %d\"%(i))\n",
    "    time.sleep(2)\n",
    "\n",
    "for j in range(20):\n",
    "    p=Process(target=proc,args=(j,))       #两个参数，target=启动进程的内容，args传一个元组\n",
    "    p.start()  #启动进程\n",
    "    print(\"p.id:\",p.pid)\n",
    "    print(\"p.name:\",p.name)\n",
    "    print(\"p.alive\",p.is_alive())"
   ]
  },
  {
   "cell_type": "code",
   "execution_count": 10,
   "metadata": {},
   "outputs": [],
   "source": [
    "from multiprocessing import Process,Queue\n",
    "import os\n",
    "import time\n",
    "import random"
   ]
  },
  {
   "cell_type": "code",
   "execution_count": 11,
   "metadata": {},
   "outputs": [],
   "source": [
    "def wq(q):\n",
    "    print(\"Process to write:%s\"%os.getpid())\n",
    "    for value in ['a','b','c']:     \n",
    "        print(\"put %s into queue...\"%value)\n",
    "        q.put(value)\n",
    "        time.sleep(random.randint(1,5))"
   ]
  },
  {
   "cell_type": "code",
   "execution_count": 17,
   "metadata": {},
   "outputs": [],
   "source": [
    "def readq(q):\n",
    "    print(\"Process to read:%s\"%os.getpid())\n",
    "    while True:\n",
    "        value=q.get()\n",
    "        print(\"get %s from queue.\"%value)\n",
    "        "
   ]
  },
  {
   "cell_type": "code",
   "execution_count": 18,
   "metadata": {},
   "outputs": [],
   "source": [
    "q=Queue()"
   ]
  },
  {
   "cell_type": "code",
   "execution_count": 19,
   "metadata": {},
   "outputs": [],
   "source": [
    "p1=Process(target=wq,args=(q,))\n",
    "p2=Process(target=readq,args=(q,))"
   ]
  },
  {
   "cell_type": "code",
   "execution_count": 20,
   "metadata": {},
   "outputs": [],
   "source": [
    "p1.start()\n",
    "p2.start()\n",
    "p1.join()#等待进程结束\n",
    "p2.terminate()#强行结束"
   ]
  },
  {
   "cell_type": "code",
   "execution_count": 21,
   "metadata": {},
   "outputs": [],
   "source": [
    "def read_and_fetch(qurl,qhtml):\n",
    "    print(\"process to read:%s\"%os.getpid())\n",
    "    while Ture:\n",
    "        value=qurl.get()\n",
    "        print(\"fetching web page %s\"%value)\n",
    "        r=request.get(value)\n",
    "        html=r.content\n",
    "        qhtml.put(html)"
   ]
  },
  {
   "cell_type": "code",
   "execution_count": 22,
   "metadata": {},
   "outputs": [],
   "source": [
    "import requests\n",
    "def extract(qhtml):\n",
    "    print(\"process to read:%s\"%os.getpid())\n",
    "    while True:\n",
    "        value=qhtml.get()\n",
    "        doc=pq(value)\n",
    "        print(\"fetching web page %s\"%doc(title))"
   ]
  },
  {
   "cell_type": "code",
   "execution_count": null,
   "metadata": {},
   "outputs": [],
   "source": []
  }
 ],
 "metadata": {
  "kernelspec": {
   "display_name": "Python 3",
   "language": "python",
   "name": "python3"
  },
  "language_info": {
   "codemirror_mode": {
    "name": "ipython",
    "version": 3
   },
   "file_extension": ".py",
   "mimetype": "text/x-python",
   "name": "python",
   "nbconvert_exporter": "python",
   "pygments_lexer": "ipython3",
   "version": "3.6.6"
  }
 },
 "nbformat": 4,
 "nbformat_minor": 2
}
