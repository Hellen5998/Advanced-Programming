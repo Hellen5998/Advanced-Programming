{
 "cells": [
  {
   "cell_type": "code",
   "execution_count": 1,
   "metadata": {},
   "outputs": [
    {
     "name": "stderr",
     "output_type": "stream",
     "text": [
      "c:\\users\\dell\\appdata\\local\\programs\\python\\python36\\lib\\site-packages\\ipykernel_launcher.py:5: RuntimeWarning: month (13) is not between 1 and 12\n",
      "  \"\"\"\n"
     ]
    }
   ],
   "source": [
    "#发出警告但不暂停程序\n",
    "import warnings\n",
    "def month_warning(m):\n",
    "    if not 1<=m<=12:\n",
    "        msg=\"month (%d) is not between 1 and 12\" %m\n",
    "        warnings.warn(msg,RuntimeWarning)\n",
    "month_warning(13)"
   ]
  },
  {
   "cell_type": "code",
   "execution_count": 2,
   "metadata": {},
   "outputs": [],
   "source": [
    "#忽略特定类型的警告\n",
    "warnings.filterwarnings(action='ignore',category=RuntimeWarning)\n",
    "month_warning(13)"
   ]
  }
 ],
 "metadata": {
  "kernelspec": {
   "display_name": "Python 3",
   "language": "python",
   "name": "python3"
  },
  "language_info": {
   "codemirror_mode": {
    "name": "ipython",
    "version": 3
   },
   "file_extension": ".py",
   "mimetype": "text/x-python",
   "name": "python",
   "nbconvert_exporter": "python",
   "pygments_lexer": "ipython3",
   "version": "3.6.6"
  }
 },
 "nbformat": 4,
 "nbformat_minor": 2
}
